{
 "cells": [
  {
   "cell_type": "markdown",
   "metadata": {},
   "source": [
    "# Home assignment 1 - Your name here\n",
    "Probability and Statistics   \n",
    "CC BY-NC-SA, Sakari Lukkarinen   \n",
    "Helsinki Metropolia University of Applied Sciences"
   ]
  },
  {
   "cell_type": "code",
   "execution_count": 2,
   "metadata": {
    "collapsed": false
   },
   "outputs": [
    {
     "name": "stdout",
     "output_type": "stream",
     "text": [
      "Populating the interactive namespace from numpy and matplotlib\n"
     ]
    }
   ],
   "source": [
    "%pylab inline\n",
    "from numpy.random import randint"
   ]
  },
  {
   "cell_type": "markdown",
   "metadata": {},
   "source": [
    "## Theoretical values"
   ]
  },
  {
   "cell_type": "markdown",
   "metadata": {},
   "source": [
    "The goal is to compute the probability that at least two people in the room have the same birthday. Let's denote that $P(A)$. However, it is much easier to calculate the probability, that no two persons have the same birthday, e.g. $P(A')$. As these two probabilities are mutually exclusive, we can write $P(A) = 1- P(A')$.\n",
    "\n",
    "$P(A')$ can be calculated iteratively:\n",
    "$$P(A') = \\frac{365}{365} \\times \\frac{364}{365} \\times \\frac{363}{365} \\times ... \\frac{365 - N + 1}{365}$$\n",
    "\n",
    "where $N$ is the number of persons in the same room. \n",
    "\n",
    "First write a code that iteratively calculates the propabilities of $P(A')$ and stores the results into an array `P2`"
   ]
  },
  {
   "cell_type": "code",
   "execution_count": 6,
   "metadata": {
    "collapsed": false
   },
   "outputs": [],
   "source": []
  },
  {
   "cell_type": "markdown",
   "metadata": {},
   "source": [
    "Now you can calculate the $P(A)$ values by using the mutually exclusive rule. Store the results into an array `P1`."
   ]
  },
  {
   "cell_type": "code",
   "execution_count": 7,
   "metadata": {
    "collapsed": false
   },
   "outputs": [],
   "source": []
  },
  {
   "cell_type": "markdown",
   "metadata": {},
   "source": [
    "Lastly you can make a graphical plot of $P(A)$ (array `P1`) against the number of persons in the room and study how can you interpret the results."
   ]
  },
  {
   "cell_type": "code",
   "execution_count": 8,
   "metadata": {
    "collapsed": false,
    "scrolled": true
   },
   "outputs": [
    {
     "data": {
      "image/png": "[encoded data removed]",
      "text/plain": [
       "<matplotlib.figure.Figure at 0x6014080>"
      ]
     },
     "metadata": {},
     "output_type": "display_data"
    }
   ],
   "source": []
  },
  {
   "cell_type": "markdown",
   "metadata": {},
   "source": [
    "Based on the graph, estimate how many persons are needed that the probability is 0.5 for that at least two persons have the same birthday."
   ]
  },
  {
   "cell_type": "raw",
   "metadata": {},
   "source": [
    "Your answer:"
   ]
  },
  {
   "cell_type": "markdown",
   "metadata": {},
   "source": [
    "## Using random values\n",
    "\n",
    "Next your task is to use random integers for the same task - calculating the probabilities of the birthday problem. \n",
    "\n",
    "You can use `numpy.random.randint()` function to generate random numbers between 1 and 365. Try that here."
   ]
  },
  {
   "cell_type": "code",
   "execution_count": null,
   "metadata": {
    "collapsed": true
   },
   "outputs": [],
   "source": []
  },
  {
   "cell_type": "markdown",
   "metadata": {},
   "source": [
    "Then you can use [`numpy.unique()`](https://docs.scipy.org/doc/numpy/reference/generated/numpy.unique.html) function to find the unique values in an array. Create, for example, 20 random numbers between 1 and 365 and find how many unique values do you have in the array."
   ]
  },
  {
   "cell_type": "code",
   "execution_count": null,
   "metadata": {
    "collapsed": true
   },
   "outputs": [],
   "source": []
  },
  {
   "cell_type": "markdown",
   "metadata": {},
   "source": [
    "If you compare the number of unique values to the number of total values in the array, you can create a test if all the numbers are unique. Write a code that makes that test and gives a result of either `True` or `False`. `True` means that all numbers were unique and `False` that some of the values were similar."
   ]
  },
  {
   "cell_type": "code",
   "execution_count": null,
   "metadata": {
    "collapsed": true
   },
   "outputs": [],
   "source": []
  },
  {
   "cell_type": "markdown",
   "metadata": {},
   "source": [
    "Now write a code where you can change the number of persons within the same room. Use random integers to select a birthday for each person and test if all birthdays are unique or not. Write a loop that repeats that test several times and collect how many times the birthdays were unique."
   ]
  },
  {
   "cell_type": "code",
   "execution_count": null,
   "metadata": {
    "collapsed": true
   },
   "outputs": [],
   "source": []
  },
  {
   "cell_type": "markdown",
   "metadata": {},
   "source": [
    "Now it is time to combine all and write a Python code that by generating random integers several thousands of times and collecting the data for several numbers of persons, $N$, estimates the probability curve of $P(A)$. Store the results into a variable `P1_random`."
   ]
  },
  {
   "cell_type": "code",
   "execution_count": null,
   "metadata": {
    "collapsed": false
   },
   "outputs": [],
   "source": []
  },
  {
   "cell_type": "markdown",
   "metadata": {
    "collapsed": false
   },
   "source": [
    "## Comparison of the theoretical values to random simulation\n",
    "\n",
    "Lastly compare the results of the theoretical values (`P1`) to those you created by generating random numbers (`P1_random`). Create a graph where you draw both the theoretical probabilities and the values calculated by using random numbers for the birthday problem. How much is the difference between these two graphs?"
   ]
  },
  {
   "cell_type": "code",
   "execution_count": null,
   "metadata": {
    "collapsed": false
   },
   "outputs": [],
   "source": []
  }
 ],
 "metadata": {
  "kernelspec": {
   "display_name": "Python 3",
   "language": "python",
   "name": "python3"
  },
  "language_info": {
   "codemirror_mode": {
    "name": "ipython",
    "version": 3
   },
   "file_extension": ".py",
   "mimetype": "text/x-python",
   "name": "python",
   "nbconvert_exporter": "python",
   "pygments_lexer": "ipython3",
   "version": "3.6.0"
  }
 },
 "nbformat": 4,
 "nbformat_minor": 0
}
