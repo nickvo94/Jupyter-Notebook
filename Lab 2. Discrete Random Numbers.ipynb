{
 "cells": [
  {
   "cell_type": "markdown",
   "metadata": {},
   "source": [
    "# Lab 2. Discrete Random Numbers\n",
    "\n",
    "Probability and Statistics, Spring 2017   \n",
    "\n",
    "[CC BY-NC-SA](https://creativecommons.org/licenses/by-nc-sa/3.0/), Sakari Lukkarinen   \n",
    "Helsinki Metropolia University of Applied Sciences   \n",
    "\n",
    "Based on \n",
    "\n",
    "- Johansson, (2015). Numerical Python. [Chapter 13: Statistics](https://link-springer-com.ezproxy.metropolia.fi/chapter/10.1007/978-1-4842-0553-2_13) (See Random Numbers)\n",
    "- Numpy package: [Random Sampling](http://docs.scipy.org/doc/numpy/reference/routines.random.html)"
   ]
  },
  {
   "cell_type": "markdown",
   "metadata": {},
   "source": [
    "We start by reading the most important libraries to Python. Write here the most important **magic** code that imports the most common libraries and uses inline graphics."
   ]
  },
  {
   "cell_type": "code",
   "execution_count": 23,
   "metadata": {
    "collapsed": false
   },
   "outputs": [
    {
     "name": "stdout",
     "output_type": "stream",
     "text": [
      "Populating the interactive namespace from numpy and matplotlib\n"
     ]
    }
   ],
   "source": [
    "%pylab inline"
   ]
  },
  {
   "cell_type": "markdown",
   "metadata": {},
   "source": [
    "Numpy's random library contains the common random generators. Write here `import numpy.random as rnd`. If you uncertain what does this do, read more [how to import modules into Python](https://docs.python.org/3/tutorial/modules.html)."
   ]
  },
  {
   "cell_type": "code",
   "execution_count": 3,
   "metadata": {
    "collapsed": true
   },
   "outputs": [],
   "source": [
    "import numpy.random as rnd"
   ]
  },
  {
   "cell_type": "markdown",
   "metadata": {},
   "source": [
    "Integer valued random numbers can be generated with function `randint(N)`, where `N` gives the upper limit of the numbers. For example `rnd.randint(10)` generates a random integer between 0 and 9. Try that code here."
   ]
  },
  {
   "cell_type": "code",
   "execution_count": 2,
   "metadata": {
    "collapsed": false
   },
   "outputs": [
    {
     "data": {
      "text/plain": [
       "5"
      ]
     },
     "execution_count": 2,
     "metadata": {},
     "output_type": "execute_result"
    }
   ],
   "source": [
    "rnd.randint(10)"
   ]
  },
  {
   "cell_type": "markdown",
   "metadata": {},
   "source": [
    "We can generate several random numbers using a for loop and print them out, like:\n",
    "\n",
    "    for i in range(10):\n",
    "        print(rnd.randint(10), \" \", end=\" \")\n",
    "        \n",
    "Try that here."
   ]
  },
  {
   "cell_type": "code",
   "execution_count": 3,
   "metadata": {
    "collapsed": false
   },
   "outputs": [
    {
     "name": "stdout",
     "output_type": "stream",
     "text": [
      "5   3   1   6   5   9   8   4   4   1   "
     ]
    }
   ],
   "source": [
    "for i in range(10):\n",
    "    print(rnd.randint(10), \" \", end=\" \")"
   ]
  },
  {
   "cell_type": "markdown",
   "metadata": {},
   "source": [
    "Or second way is to create a list using a for loop:\n",
    "\n",
    "    x = [rnd.randint(10) for i in range(10)]\n",
    "    x\n",
    "\n",
    "That's a very handy tool way to create numerical lists in standard Python. Try that here."
   ]
  },
  {
   "cell_type": "code",
   "execution_count": 6,
   "metadata": {
    "collapsed": false
   },
   "outputs": [
    {
     "name": "stdout",
     "output_type": "stream",
     "text": [
      "[8, 5, 0, 4, 3, 6, 8, 6, 7, 9]\n"
     ]
    }
   ],
   "source": [
    "x = [rnd.randint(10) for i in range(10)]\n",
    "print(x)"
   ]
  },
  {
   "cell_type": "markdown",
   "metadata": {},
   "source": [
    "However, the most efficient way is to create arrays. Then you need to specify the `low`, `high`, and `size` parameters for `randint()` function. Study the documentation of [`randint()`](https://docs.scipy.org/doc/numpy/reference/generated/numpy.random.randint.html) function and create a list of random integers between 10 and 20. The size of the array should be 50. Store the results to a variable `x` and display it."
   ]
  },
  {
   "cell_type": "code",
   "execution_count": 7,
   "metadata": {
    "collapsed": false
   },
   "outputs": [
    {
     "name": "stdout",
     "output_type": "stream",
     "text": [
      "[10 12 12 14 12 18 13 11 12 16 10 11 10 10 16 19 12 12 16 10 15 11 10 17 14\n",
      " 11 11 10 15 17 17 18 16 19 19 10 18 13 14 11 19 12 10 16 17 16 10 19 11 18]\n"
     ]
    }
   ],
   "source": [
    "x = rnd.randint(10,20, size = 50) \n",
    "print(x)"
   ]
  },
  {
   "cell_type": "markdown",
   "metadata": {},
   "source": [
    "What if we want to count how many times each value was presented in the array and make a histogram plot of them? \n",
    "\n",
    "Then we use [`hist`](http://matplotlib.org/api/pyplot_api.html) function from `matplotlib` library. Study the documentation of  that function (click the previous link and search for hist) and create a histogram of the values of `x`. Add also `xlabel(\"Value of x\")` and `ylabel(\"Frequency (#)\")` to your graph."
   ]
  },
  {
   "cell_type": "code",
   "execution_count": 10,
   "metadata": {
    "collapsed": false
   },
   "outputs": [
    {
     "data": {
      "text/plain": [
       "(array([  1.,   4.,   5.,   6.,   2.,   6.,  10.,   6.,   4.,   6.]),\n",
       " array([ 10. ,  10.9,  11.8,  12.7,  13.6,  14.5,  15.4,  16.3,  17.2,\n",
       "         18.1,  19. ]),\n",
       " <a list of 10 Patch objects>)"
      ]
     },
     "execution_count": 10,
     "metadata": {},
     "output_type": "execute_result"
    },
    {
     "data": {
      "image/png": "[encoded data removed]",
      "text/plain": [
       "<matplotlib.figure.Figure at 0x47ca9e8ef0>"
      ]
     },
     "metadata": {},
     "output_type": "display_data"
    }
   ],
   "source": [
    "%matplotlib inline\n",
    "import matplotlib\n",
    "import numpy as np\n",
    "import matplotlib.pyplot as plt\n",
    "\n",
    "x = rnd.randint(10,20, size = 50) \n",
    "fig = plt.figure()\n",
    "ax = fig.add_subplot(111)\n",
    "ax.set(title='x histogram', ylabel='frequency', xlabel='value of x')\n",
    "ax.hist(x)"
   ]
  },
  {
   "cell_type": "markdown",
   "metadata": {},
   "source": [
    "If you store the output of the hist function, like `out = hist(<your code comes here>)` what does `out` contain?"
   ]
  },
  {
   "cell_type": "code",
   "execution_count": 12,
   "metadata": {
    "collapsed": false
   },
   "outputs": [
    {
     "name": "stdout",
     "output_type": "stream",
     "text": [
      "(array([  1.,   4.,   5.,   6.,   2.,   6.,  10.,   6.,   4.,   6.]), array([ 10. ,  10.9,  11.8,  12.7,  13.6,  14.5,  15.4,  16.3,  17.2,\n",
      "        18.1,  19. ]), <a list of 10 Patch objects>)\n"
     ]
    },
    {
     "data": {
      "image/png": "[encoded data removed]",
      "text/plain": [
       "<matplotlib.figure.Figure at 0x47c89da940>"
      ]
     },
     "metadata": {},
     "output_type": "display_data"
    }
   ],
   "source": [
    "out = plt.hist(x)\n",
    "print(out)"
   ]
  },
  {
   "cell_type": "markdown",
   "metadata": {},
   "source": [
    "### Exercise 1. Histogram of random integers\n",
    "Create an array of 1000 random integer numbers in range 0..20 and make a histogram plot of the distribution. Use as many [bins](http://stackoverflow.com/questions/6986986/bin-size-in-matplotlib-histogram) as you have the values in your dataset. Think how the bins should divided in order that each different value drop into own bin."
   ]
  },
  {
   "cell_type": "code",
   "execution_count": 9,
   "metadata": {
    "collapsed": false
   },
   "outputs": [
    {
     "data": {
      "text/plain": [
       "(array([ 50.,  56.,  58.,  66.,  46.,  60.,  52.,  48.,  47.,  54.,  45.,\n",
       "         41.,  59.,  40.,  41.,  48.,  48.,  36.,  52.,  53.]),\n",
       " array([  0.  ,   0.95,   1.9 ,   2.85,   3.8 ,   4.75,   5.7 ,   6.65,\n",
       "          7.6 ,   8.55,   9.5 ,  10.45,  11.4 ,  12.35,  13.3 ,  14.25,\n",
       "         15.2 ,  16.15,  17.1 ,  18.05,  19.  ]),\n",
       " <a list of 20 Patch objects>)"
      ]
     },
     "execution_count": 9,
     "metadata": {},
     "output_type": "execute_result"
    },
    {
     "data": {
      "image/png": "[encoded data removed]",
      "text/plain": [
       "<matplotlib.figure.Figure at 0xd7a393f6a0>"
      ]
     },
     "metadata": {},
     "output_type": "display_data"
    }
   ],
   "source": [
    "x = rnd.randint(0,20, size = 1000) \n",
    "#print(x)\n",
    "plt.hist(x, bins=20)"
   ]
  },
  {
   "cell_type": "markdown",
   "metadata": {},
   "source": [
    "### Exercise 2. Flattening the  histogram\n",
    "\n",
    "Increase the size of the array in previous exercise. Explore different values. Make several graphs of the histograms and compare them. How many random numbers are needed in order that the histogram looks [flat and evenly distributed](https://www.google.fi/search?q=flat+histogram&tbm=isch&tbo=u&source=univ&sa=X&ved=0ahUKEwjl1_WDjMDTAhUGKpoKHUKpCJcQsAQIIQ&biw=1680&bih=920#imgrc=UktM8JjhJg2hVM:)?"
   ]
  },
  {
   "cell_type": "code",
   "execution_count": 26,
   "metadata": {
    "collapsed": false
   },
   "outputs": [
    {
     "data": {
      "text/plain": [
       "(array([ 5004876.,  5002360.,  5000673.,  5000252.,  4999250.,  4993051.,\n",
       "         5001961.,  5000225.,  4996230.,  4999143.,  4998181.,  5000431.,\n",
       "         4999599.,  4994448.,  5002182.,  5000637.,  4998916.,  5003973.,\n",
       "         4999664.,  5003948.]),\n",
       " array([  0.  ,   0.95,   1.9 ,   2.85,   3.8 ,   4.75,   5.7 ,   6.65,\n",
       "          7.6 ,   8.55,   9.5 ,  10.45,  11.4 ,  12.35,  13.3 ,  14.25,\n",
       "         15.2 ,  16.15,  17.1 ,  18.05,  19.  ]),\n",
       " <a list of 20 Patch objects>)"
      ]
     },
     "execution_count": 26,
     "metadata": {},
     "output_type": "execute_result"
    },
    {
     "data": {
      "image/png": "[encoded data removed]",
      "text/plain": [
       "<matplotlib.figure.Figure at 0x47cc4d9940>"
      ]
     },
     "metadata": {},
     "output_type": "display_data"
    }
   ],
   "source": [
    "x1 = rnd.randint(0,20, size = 100000000) \n",
    "#print(x1)\n",
    "plt.hist(x1, bins=20)"
   ]
  },
  {
   "cell_type": "markdown",
   "metadata": {},
   "source": [
    "## Two-valued random numbers\n",
    "\n",
    "In this second part we create two-valued random numbers. Study [choice](https://docs.scipy.org/doc/numpy/reference/generated/numpy.random.choice.html#numpy.random.choice) function from `numpy.random` module. Write a code that randomly selects either 'A' or 'B'."
   ]
  },
  {
   "cell_type": "code",
   "execution_count": 36,
   "metadata": {
    "collapsed": false
   },
   "outputs": [
    {
     "data": {
      "text/plain": [
       "array(['B'], \n",
       "      dtype='<U1')"
      ]
     },
     "execution_count": 36,
     "metadata": {},
     "output_type": "execute_result"
    }
   ],
   "source": [
    "a = np.array(['A','B'])\n",
    "np.random.choice(a,1)"
   ]
  },
  {
   "cell_type": "markdown",
   "metadata": {},
   "source": [
    "Now let's create a coin flipping experiment. Using the `choice` function create randomly selected values between 'head' or 'tail'. Store the results into an array `coins` and display the values."
   ]
  },
  {
   "cell_type": "code",
   "execution_count": 47,
   "metadata": {
    "collapsed": false
   },
   "outputs": [
    {
     "name": "stdout",
     "output_type": "stream",
     "text": [
      "['tail' 'head' 'tail' 'head' 'tail' 'head' 'tail' 'head' 'head' 'head']\n"
     ]
    }
   ],
   "source": [
    "coin = np.random.choice(['head','tail'],10)\n",
    "print(coin)"
   ]
  },
  {
   "cell_type": "markdown",
   "metadata": {},
   "source": [
    "You can test if any of the elements in the array has value 'head' by the following:\n",
    "\n",
    "    coin == 'head'\n",
    "\n",
    "Try it now here to your `coin` data."
   ]
  },
  {
   "cell_type": "code",
   "execution_count": 48,
   "metadata": {
    "collapsed": false
   },
   "outputs": [
    {
     "data": {
      "text/plain": [
       "array([False,  True, False,  True, False,  True, False,  True,  True,  True], dtype=bool)"
      ]
     },
     "execution_count": 48,
     "metadata": {},
     "output_type": "execute_result"
    }
   ],
   "source": [
    "coin == 'head'"
   ]
  },
  {
   "cell_type": "markdown",
   "metadata": {},
   "source": [
    "We can count how many 'head's we got using the code `sum(coin == 'head')`. Find out how many times did you get 'head's in your 10 times of coin flipping experiment."
   ]
  },
  {
   "cell_type": "code",
   "execution_count": 49,
   "metadata": {
    "collapsed": false
   },
   "outputs": [
    {
     "data": {
      "text/plain": [
       "6"
      ]
     },
     "execution_count": 49,
     "metadata": {},
     "output_type": "execute_result"
    }
   ],
   "source": [
    "sum(coin == 'head')"
   ]
  },
  {
   "cell_type": "markdown",
   "metadata": {},
   "source": [
    "### Exercise 3. Flipping the coin 100 times\n",
    "If we flip the coin 100 times, how many times we get 'head'? Is it always the same number?"
   ]
  },
  {
   "cell_type": "code",
   "execution_count": 52,
   "metadata": {
    "collapsed": false
   },
   "outputs": [
    {
     "data": {
      "text/plain": [
       "50"
      ]
     },
     "execution_count": 52,
     "metadata": {},
     "output_type": "execute_result"
    }
   ],
   "source": [
    "coin2 = np.random.choice(['head','tail'],100)\n",
    "sum(coin2 == 'head')"
   ]
  },
  {
   "cell_type": "markdown",
   "metadata": {},
   "source": [
    "### Exercise 4. Repeating the experiment\n",
    "\n",
    "Repeat the coin flipping experiment done in previous exercise several times, let's say make 1000 repetitions. Count on each round how many times you got 'head' and store the sum of the heads into a new variable. Name this variable as `sum_of_heads`. Make a histogram how `sum_of_heads` variates. What do you observe?\n",
    "\n",
    "Tip. Use the code of previous exercise and add a for-loop around the simulation. Check the [Loops and if/else statements](https://docs.python.org/3/tutorial/controlflow.html) for more details, if you feel uncertain how to use for-loop."
   ]
  },
  {
   "cell_type": "code",
   "execution_count": 18,
   "metadata": {
    "collapsed": false
   },
   "outputs": [
    {
     "data": {
      "text/plain": [
       "(array([  4.00000000e+00,   3.00000000e+00,   9.00000000e+00,\n",
       "          2.80000000e+01,   4.50000000e+01,   9.00000000e+01,\n",
       "          1.45000000e+02,   2.75000000e+02,   4.67000000e+02,\n",
       "          7.12000000e+02,   1.09900000e+03,   1.59500000e+03,\n",
       "          2.26000000e+03,   3.03300000e+03,   3.86200000e+03,\n",
       "          4.66600000e+03,   5.80000000e+03,   6.70300000e+03,\n",
       "          7.44700000e+03,   7.85000000e+03,   7.82600000e+03,\n",
       "          7.84800000e+03,   7.47000000e+03,   6.60100000e+03,\n",
       "          5.80300000e+03,   4.81800000e+03,   3.97200000e+03,\n",
       "          3.03000000e+03,   2.19600000e+03,   1.64300000e+03,\n",
       "          1.01000000e+03,   6.28000000e+02,   4.57000000e+02,\n",
       "          2.61000000e+02,   1.65000000e+02,   8.00000000e+01,\n",
       "          6.00000000e+01,   3.10000000e+01]),\n",
       " array([30, 31, 32, 33, 34, 35, 36, 37, 38, 39, 40, 41, 42, 43, 44, 45, 46,\n",
       "        47, 48, 49, 50, 51, 52, 53, 54, 55, 56, 57, 58, 59, 60, 61, 62, 63,\n",
       "        64, 65, 66, 67, 68]),\n",
       " <a list of 38 Patch objects>)"
      ]
     },
     "execution_count": 18,
     "metadata": {},
     "output_type": "execute_result"
    },
    {
     "data": {
      "image/png": "[encoded data removed]",
      "text/plain": [
       "<matplotlib.figure.Figure at 0xcdf8bf3780>"
      ]
     },
     "metadata": {},
     "output_type": "display_data"
    }
   ],
   "source": [
    "\n",
    "sum_of_head = np.zeros(100000)\n",
    "for i in range(100000):\n",
    "    coin3 = np.random.choice(['head','tail'],100)\n",
    "    sum_of_head[i] = sum(coin3 == 'head')\n",
    "    \n",
    "plt.hist(sum_of_head, bins=arange(30,69,1))\n",
    "\n"
   ]
  },
  {
   "cell_type": "markdown",
   "metadata": {},
   "source": [
    "## Cumulative sum"
   ]
  },
  {
   "cell_type": "markdown",
   "metadata": {},
   "source": [
    "If we have an array of numbers, we can calculate the cumulative sum of them using `numpy.cumsum()` function. For example, try the following code:\n",
    "\n",
    "    x = array([1, 0, 2, 3, 1])\n",
    "    s = cumsum(x)\n",
    "    print(s)"
   ]
  },
  {
   "cell_type": "code",
   "execution_count": 57,
   "metadata": {
    "collapsed": false
   },
   "outputs": [
    {
     "name": "stdout",
     "output_type": "stream",
     "text": [
      "[1 1 3 6 7]\n"
     ]
    }
   ],
   "source": [
    "x = np.array([1, 0, 2, 3, 1])\n",
    "s = np.cumsum(x)\n",
    "print(s)"
   ]
  },
  {
   "cell_type": "markdown",
   "metadata": {},
   "source": [
    "In the first element of the results variable `s` we have the value of the first element of `x`,  and in the following elements we add one-by-one the next values. As the final result the cumulative sum is calculated as:\n",
    "> [1, (1 + 0), (1 + 0 + 2), (1 + 0 + 2 + 3), (1 + 0 + 2 + 3 + 1)] = [1 1 3 6 7]"
   ]
  },
  {
   "cell_type": "markdown",
   "metadata": {},
   "source": [
    "What if we have True-False data as the input? Try the following:\n",
    "\n",
    "    x = np([True, False, True, True, False])\n",
    "    s = cumsum(x)\n",
    "    print(s)\n"
   ]
  },
  {
   "cell_type": "code",
   "execution_count": 59,
   "metadata": {
    "collapsed": false
   },
   "outputs": [
    {
     "name": "stdout",
     "output_type": "stream",
     "text": [
      "[1 1 2 3 3]\n"
     ]
    }
   ],
   "source": [
    "x = np.array([True, False, True, True, False])\n",
    "s = np.cumsum(x)\n",
    "print(s)"
   ]
  },
  {
   "cell_type": "markdown",
   "metadata": {},
   "source": [
    "The cumsum counts each `True` value as `1` and `False` as `0`:\n",
    "> [1, (1 + 0), (1 + 0 + 1), (1 + 0 + 1 + 1), (1 + 0 + 1 + 1 + 0)] = [1 1 2 3 3]"
   ]
  },
  {
   "cell_type": "markdown",
   "metadata": {},
   "source": [
    "Let's flip the coin (again) and see how the number of 'head's changes over the time of flipping using the `cumsum` function. Run the following code."
   ]
  },
  {
   "cell_type": "code",
   "execution_count": 73,
   "metadata": {
    "collapsed": false
   },
   "outputs": [
    {
     "data": {
      "text/plain": [
       "[<matplotlib.text.Text at 0x47cdc83278>,\n",
       " <matplotlib.text.Text at 0x47cdc2ac88>,\n",
       " <matplotlib.text.Text at 0x47cdc0e0f0>]"
      ]
     },
     "execution_count": 73,
     "metadata": {},
     "output_type": "execute_result"
    },
    {
     "data": {
      "image/png": "[encoded data removed]",
      "text/plain": [
       "<matplotlib.figure.Figure at 0x47cdcd85f8>"
      ]
     },
     "metadata": {},
     "output_type": "display_data"
    }
   ],
   "source": [
    "import numpy.random as rnd\n",
    "\n",
    "N = 50\n",
    "coin = rnd.choice(['head', 'tail'], N)\n",
    "\n",
    "# Calculate cumulative sum of heads\n",
    "s = np.cumsum(coin == 'head')\n",
    "\n",
    "# Index = how many times we have flipped the coin so far\n",
    "i = np.arange(len(s)) + 1\n",
    "\n",
    "# Make a graph of the cumulative sum of heads\n",
    "fig = plt.figure()\n",
    "ax = fig.add_subplot(111)\n",
    "ax.plot(i, s)\n",
    "plt.grid()\n",
    "ax.set(title ='cumulative sum', ylabel='Number of times we got heads', xlabel = 'Number of times coin was flipped')\n"
   ]
  },
  {
   "cell_type": "markdown",
   "metadata": {},
   "source": [
    "It seems that the number of heads is increasing almost at the half rate of the number of flips. That can be seen in the graph (for example when x-value is 20, then y-value is approximately 10, and the slope is about 0.5). \n",
    "\n",
    "How about the propability of getting heads? \n",
    "\n",
    "We can calculate that by dividing the `number_of_times_we_got_head` by the `number_of_times_coin_was_flipped`. This is your next exercise.\n",
    "\n",
    "### Exercise 5. Probability of getting head in flipping a coin experiment\n",
    "\n",
    "Flip the coin 1000 times and calculate the cumulative sum of the heads. Create a second array, index variable, that contains the information how many times the coin was flipped (see the previous example code). Divide these two arrays to get the probability of heads over the number of flippings. Make a graph how the `probability_of_getting_hds` is changing when the `number_of_times coin_was_flipped` increases."
   ]
  },
  {
   "cell_type": "code",
   "execution_count": 6,
   "metadata": {
    "collapsed": false
   },
   "outputs": [
    {
     "name": "stdout",
     "output_type": "stream",
     "text": [
      "[  0.           0.          33.33333333  25.          40.          33.33333333\n",
      "  42.85714286  37.5         44.44444444  50.          54.54545455\n",
      "  58.33333333  61.53846154  64.28571429  60.          56.25        52.94117647\n",
      "  50.          47.36842105  50.          47.61904762  45.45454545\n",
      "  47.82608696  45.83333333  48.          50.          51.85185185\n",
      "  53.57142857  51.72413793  50.          51.61290323  53.125       54.54545455\n",
      "  55.88235294  54.28571429  52.77777778  54.05405405  55.26315789\n",
      "  53.84615385  55.          53.65853659  52.38095238  53.48837209\n",
      "  54.54545455  53.33333333  52.17391304  51.06382979  50.          48.97959184\n",
      "  50.          50.98039216  51.92307692  52.83018868  53.7037037\n",
      "  52.72727273  53.57142857  52.63157895  51.72413793  50.84745763  50.\n",
      "  49.18032787  50.          49.20634921  50.          50.76923077\n",
      "  51.51515152  50.74626866  51.47058824  52.17391304  51.42857143\n",
      "  50.70422535  50.          49.31506849  50.          49.33333333  50.\n",
      "  49.35064935  50.          50.63291139  50.          49.38271605  50.\n",
      "  50.60240964  50.          50.58823529  50.          50.57471264\n",
      "  51.13636364  50.56179775  50.          50.54945055  51.08695652\n",
      "  51.61290323  51.06382979  51.57894737  51.04166667  50.51546392\n",
      "  51.02040816  50.50505051  51.          51.48514851  50.98039216\n",
      "  50.48543689  50.          50.47619048  50.          50.46728972  50.\n",
      "  50.4587156   50.90909091  51.35135135  51.78571429  51.32743363\n",
      "  50.87719298  50.43478261  50.86206897  50.42735043  50.          49.57983193\n",
      "  49.16666667  49.58677686  50.          49.59349593  49.19354839  49.6\n",
      "  49.20634921  49.60629921  49.21875     48.8372093   49.23076923\n",
      "  49.61832061  49.24242424  48.87218045  48.50746269  48.88888889\n",
      "  49.26470588  48.90510949  48.55072464  48.20143885  48.57142857\n",
      "  48.22695035  47.88732394  47.55244755  47.91666667  48.27586207\n",
      "  47.94520548  48.29931973  48.64864865  48.32214765  48.          47.68211921\n",
      "  48.02631579  48.36601307  48.05194805  48.38709677  48.71794872\n",
      "  49.04458599  48.73417722  48.42767296  48.75        48.44720497\n",
      "  48.7654321   48.46625767  48.17073171  47.87878788  48.19277108\n",
      "  47.90419162  48.21428571  47.92899408  48.23529412  48.5380117\n",
      "  48.25581395  48.55491329  48.85057471  49.14285714  48.86363636\n",
      "  48.58757062  48.31460674  48.60335196  48.33333333  48.06629834\n",
      "  47.8021978   48.08743169  47.82608696  47.56756757  47.31182796\n",
      "  47.59358289  47.34042553  47.08994709  46.84210526  47.12041885  46.875\n",
      "  47.15025907  47.42268041  47.69230769  47.44897959  47.20812183\n",
      "  47.47474747  47.73869347  47.5         47.76119403  48.01980198\n",
      "  48.27586207  48.52941176  48.7804878   49.02912621  49.27536232\n",
      "  49.51923077  49.76076555  50.          50.23696682  50.47169811\n",
      "  50.23474178  50.46728972  50.23255814  50.          50.23041475\n",
      "  50.4587156   50.2283105   50.45454545  50.67873303  50.45045045\n",
      "  50.22421525  50.          49.77777778  50.          49.77973568  50.\n",
      "  49.78165939  49.56521739  49.78354978  49.56896552  49.78540773  50.\n",
      "  50.21276596  50.42372881  50.63291139  50.84033613  50.62761506\n",
      "  50.83333333  50.62240664  50.41322314  50.61728395  50.40983607\n",
      "  50.6122449   50.40650407  50.20242915  50.40322581  50.60240964  50.8\n",
      "  50.59760956  50.3968254   50.59288538  50.78740157  50.58823529  50.78125\n",
      "  50.97276265  51.1627907   51.35135135  51.53846154  51.72413793\n",
      "  51.52671756  51.33079848  51.51515152  51.32075472  51.12781955\n",
      "  51.31086142  51.49253731  51.30111524  51.48148148  51.29151292\n",
      "  51.10294118  50.91575092  50.72992701  50.90909091  51.08695652\n",
      "  50.90252708  50.71942446  50.53763441  50.35714286  50.53380783\n",
      "  50.70921986  50.88339223  51.05633803  51.22807018  51.04895105\n",
      "  51.2195122   51.04166667  50.8650519   50.68965517  50.85910653\n",
      "  50.68493151  50.51194539  50.34013605  50.50847458  50.67567568\n",
      "  50.50505051  50.33557047  50.16722408  50.          50.16611296\n",
      "  50.33112583  50.4950495   50.32894737  50.16393443  50.32679739\n",
      "  50.48859935  50.64935065  50.48543689  50.64516129  50.80385852\n",
      "  50.64102564  50.47923323  50.31847134  50.15873016  50.          49.84227129\n",
      "  49.68553459  49.52978056  49.6875      49.84423676  50.          49.84520124\n",
      "  50.          50.15384615  50.30674847  50.1529052   50.30487805\n",
      "  50.45592705  50.60606061  50.75528701  50.60240964  50.45045045\n",
      "  50.2994012   50.14925373  50.29761905  50.44510386  50.59171598\n",
      "  50.73746313  50.88235294  51.02639296  50.87719298  50.72886297\n",
      "  50.58139535  50.72463768  50.57803468  50.7204611   50.57471264\n",
      "  50.71633238  50.85714286  50.997151    51.13636364  51.27478754\n",
      "  51.1299435   50.98591549  50.84269663  50.98039216  50.83798883\n",
      "  50.69637883  50.55555556  50.69252078  50.82872928  50.96418733\n",
      "  50.82417582  50.95890411  50.81967213  50.95367847  50.81521739\n",
      "  50.67750678  50.81081081  50.94339623  50.80645161  50.67024129\n",
      "  50.80213904  50.93333333  50.79787234  50.66312997  50.52910053\n",
      "  50.65963061  50.78947368  50.65616798  50.78534031  50.91383812  50.78125\n",
      "  50.90909091  50.77720207  50.90439276  50.77319588  50.64267352\n",
      "  50.76923077  50.89514066  51.02040816  50.89058524  50.76142132\n",
      "  50.63291139  50.75757576  50.62972292  50.75376884  50.87719298  50.75\n",
      "  50.6234414   50.74626866  50.86848635  50.74257426  50.86419753\n",
      "  50.98522167  51.10565111  51.2254902   51.1002445   51.2195122\n",
      "  51.09489051  50.97087379  51.08958838  50.96618357  51.08433735\n",
      "  50.96153846  50.83932854  50.71770335  50.59665871  50.47619048\n",
      "  50.35629454  50.47393365  50.59101655  50.47169811  50.58823529\n",
      "  50.70422535  50.81967213  50.70093458  50.58275058  50.69767442\n",
      "  50.5800464   50.46296296  50.57736721  50.69124424  50.8045977\n",
      "  50.91743119  51.02974828  50.91324201  51.02505695  51.13636364\n",
      "  51.24716553  51.13122172  51.24153499  51.12612613  51.23595506\n",
      "  51.34529148  51.23042506  51.11607143  51.22494432  51.11111111\n",
      "  51.2195122   51.10619469  51.21412804  51.3215859   51.42857143\n",
      "  51.31578947  51.20350109  51.31004367  51.19825708  51.08695652\n",
      "  50.97613883  50.86580087  50.97192225  51.07758621  50.96774194\n",
      "  51.07296137  51.17773019  51.28205128  51.38592751  51.4893617\n",
      "  51.59235669  51.69491525  51.58562368  51.68776371  51.57894737\n",
      "  51.68067227  51.57232704  51.46443515  51.565762    51.45833333\n",
      "  51.35135135  51.24481328  51.13871636  51.23966942  51.13402062\n",
      "  51.2345679   51.33470226  51.43442623  51.32924335  51.42857143\n",
      "  51.52749491  51.62601626  51.52129817  51.41700405  51.31313131\n",
      "  51.41129032  51.30784708  51.40562249  51.50300601  51.6         51.69660679\n",
      "  51.5936255   51.68986083  51.78571429  51.88118812  51.97628458\n",
      "  52.07100592  52.16535433  52.25933202  52.35294118  52.44618395  52.34375\n",
      "  52.43664717  52.33463035  52.23300971  52.3255814   52.41779497\n",
      "  52.31660232  52.40847784  52.5         52.39923225  52.29885057\n",
      "  52.19885277  52.09923664  52.          52.09125475  52.18216319\n",
      "  52.27272727  52.17391304  52.26415094  52.35404896  52.2556391\n",
      "  52.34521576  52.24719101  52.14953271  52.05223881  51.95530726\n",
      "  51.85873606  51.94805195  52.03703704  51.94085028  51.84501845\n",
      "  51.93370166  51.83823529  51.74311927  51.64835165  51.55393053\n",
      "  51.45985401  51.54826958  51.63636364  51.54264973  51.63043478\n",
      "  51.53707052  51.44404332  51.53153153  51.61870504  51.70556553\n",
      "  51.61290323  51.52057245  51.42857143  51.51515152  51.42348754\n",
      "  51.50976909  51.41843972  51.32743363  51.23674912  51.32275132\n",
      "  51.23239437  51.14235501  51.05263158  50.96322242  50.87412587\n",
      "  50.95986038  51.04529617  51.13043478  51.21527778  51.12651646\n",
      "  51.03806228  51.12262522  51.03448276  50.94664372  51.03092784\n",
      "  51.11492281  51.19863014  51.28205128  51.36518771  51.27768313\n",
      "  51.19047619  51.27334465  51.3559322   51.26903553  51.35135135\n",
      "  51.26475548  51.17845118  51.2605042   51.34228188  51.42378559\n",
      "  51.33779264  51.25208681  51.16666667  51.24792013  51.32890365\n",
      "  51.40961857  51.32450331  51.23966942  51.15511551  51.23558484\n",
      "  51.31578947  51.23152709  51.31147541  51.22749591  51.30718954\n",
      "  51.38662316  51.46579805  51.54471545  51.46103896  51.53970827\n",
      "  51.61812298  51.69628433  51.61290323  51.52979066  51.44694534\n",
      "  51.36436597  51.28205128  51.36        51.43769968  51.51515152\n",
      "  51.43312102  51.35135135  51.26984127  51.34706815  51.42405063\n",
      "  51.34281201  51.41955836  51.49606299  51.41509434  51.49136578\n",
      "  51.41065831  51.33020344  51.25        51.32605304  51.24610592\n",
      "  51.16640747  51.08695652  51.00775194  51.08359133  51.00463679\n",
      "  51.08024691  51.00154083  51.07692308  50.9984639   50.9202454\n",
      "  50.99540582  50.91743119  50.99236641  51.06707317  51.14155251\n",
      "  51.06382979  50.98634294  51.06060606  50.98335855  50.90634441\n",
      "  50.82956259  50.90361446  50.97744361  51.05105105  50.97451274\n",
      "  50.89820359  50.9715994   51.04477612  50.96870343  50.89285714\n",
      "  50.96582467  50.89020772  50.96296296  50.88757396  50.96011817\n",
      "  51.03244838  50.95729013  50.88235294  50.80763583  50.73313783\n",
      "  50.80527086  50.87719298  50.94890511  51.02040816  50.94614265\n",
      "  51.01744186  51.08853411  51.15942029  51.0853835   51.15606936\n",
      "  51.08225108  51.15273775  51.22302158  51.29310345  51.2195122\n",
      "  51.28939828  51.21602289  51.28571429  51.2125535   51.13960114\n",
      "  51.06685633  51.13636364  51.20567376  51.13314448  51.20226308\n",
      "  51.27118644  51.19887165  51.12676056  51.1954993   51.12359551\n",
      "  51.19214586  51.12044818  51.04895105  50.97765363  51.0460251\n",
      "  50.97493036  50.90403338  50.97222222  51.04022191  51.10803324\n",
      "  51.17565698  51.10497238  51.17241379  51.10192837  51.03163686\n",
      "  51.0989011   51.1659808   51.23287671  51.1627907   51.09289617\n",
      "  51.15961801  51.08991826  51.15646259  51.08695652  51.01763908\n",
      "  51.08401084  51.01488498  50.94594595  50.87719298  50.94339623\n",
      "  50.87483176  50.94086022  51.00671141  50.9383378   50.87014726\n",
      "  50.80213904  50.86782377  50.93333333  50.99866844  51.06382979\n",
      "  50.99601594  50.92838196  50.99337748  51.05820106  51.12285337\n",
      "  51.18733509  51.1198946   51.18421053  51.24835742  51.18110236\n",
      "  51.11402359  51.04712042  50.98039216  50.91383812  50.97783572\n",
      "  50.91145833  50.84525358  50.77922078  50.71335927  50.77720207\n",
      "  50.71151358  50.64599483  50.70967742  50.6443299   50.70785071\n",
      "  50.64267352  50.70603338  50.76923077  50.83226633  50.76726343\n",
      "  50.83014049  50.89285714  50.95541401  51.0178117   50.95298602\n",
      "  51.01522843  50.95057034  50.88607595  50.82174463  50.88383838\n",
      "  50.94577554  51.00755668  50.94339623  50.87939698  50.94102886\n",
      "  51.00250627  51.06382979  51.125       51.18601748  51.24688279\n",
      "  51.18306351  51.11940299  51.05590062  50.99255583  50.92936803\n",
      "  50.86633663  50.92707046  50.86419753  50.80147965  50.86206897\n",
      "  50.799508    50.85995086  50.9202454   50.98039216  50.91799266\n",
      "  50.85574572  50.79365079  50.73170732  50.79171742  50.85158151\n",
      "  50.78979344  50.84951456  50.78787879  50.84745763  50.7859734\n",
      "  50.84541063  50.7840772   50.72289157  50.78219013  50.84134615\n",
      "  50.78031212  50.71942446  50.77844311  50.83732057  50.77658303\n",
      "  50.8353222   50.77473182  50.83333333  50.77288942  50.71258907\n",
      "  50.77105575  50.82938389  50.88757396  50.82742317  50.88547816\n",
      "  50.8254717   50.7656066   50.82352941  50.76380729  50.82159624\n",
      "  50.87924971  50.93676815  50.99415205  51.05140187  51.10851809\n",
      "  51.16550117  51.10593714  51.1627907   51.10336818  51.04408353\n",
      "  50.98493627  50.92592593  50.98265896  51.03926097  51.09573241\n",
      "  51.03686636  50.97813579  50.91954023  50.86107922  50.91743119\n",
      "  50.97365407  51.02974828  51.08571429  51.14155251  51.1972634\n",
      "  51.13895216  51.19453925  51.25        51.30533485  51.36054422\n",
      "  51.30237826  51.24434389  51.18644068  51.24153499  51.1837655\n",
      "  51.23873874  51.18110236  51.12359551  51.17845118  51.12107623\n",
      "  51.17581187  51.11856823  51.06145251  51.00446429  50.94760312\n",
      "  50.8908686   50.94549499  51.          51.05438402  51.10864745\n",
      "  51.1627907   51.21681416  51.27071823  51.21412804  51.15766262\n",
      "  51.10132159  51.04510451  51.0989011   51.15257958  51.09649123\n",
      "  51.04052574  50.98468271  51.03825137  51.09170306  51.03598691\n",
      "  50.98039216  50.92491839  50.97826087  50.92290988  50.97613883\n",
      "  51.02925244  51.08225108  51.02702703  51.07991361  51.13268608\n",
      "  51.07758621  51.13024758  51.07526882  51.02040816  50.96566524\n",
      "  50.91103966  50.85653105  50.80213904  50.85470085  50.90715048\n",
      "  50.95948827  51.01171459  51.06382979  51.11583422  51.06157113\n",
      "  51.11346766  51.05932203  51.11111111  51.1627907   51.21436114\n",
      "  51.26582278  51.2118019   51.15789474  51.10410095  51.15546218\n",
      "  51.20671563  51.25786164  51.20418848  51.15062762  51.09717868\n",
      "  51.14822547  51.09489051  51.14583333  51.19667014  51.14345114\n",
      "  51.19418484  51.14107884  51.19170984  51.24223602  51.2926577\n",
      "  51.34297521  51.39318885  51.44329897  51.49330587  51.54320988\n",
      "  51.49023638  51.43737166  51.38461538  51.33196721  51.38178096\n",
      "  51.32924335  51.27681307  51.2244898   51.27420999  51.32382892\n",
      "  51.3733469   51.42276423  51.37055838  51.31845842  51.36778116\n",
      "  51.41700405  51.36501517  51.31313131  51.26135217  51.20967742\n",
      "  51.25881168  51.30784708  51.35678392  51.30522088  51.35406219\n",
      "  51.40280561  51.35135135  51.3       ]\n"
     ]
    },
    {
     "data": {
      "text/plain": [
       "[<matplotlib.text.Text at 0xc1614c668>,\n",
       " <matplotlib.text.Text at 0xc16147470>,\n",
       " <matplotlib.text.Text at 0xc1618ceb8>]"
      ]
     },
     "execution_count": 6,
     "metadata": {},
     "output_type": "execute_result"
    },
    {
     "data": {
      "image/png": "[encoded data removed]",
      "text/plain": [
       "<matplotlib.figure.Figure at 0xc13e88048>"
      ]
     },
     "metadata": {},
     "output_type": "display_data"
    }
   ],
   "source": [
    "N = 1000\n",
    "coin = rnd.choice(['head', 'tail'], N)\n",
    "\n",
    "# Calculate cumulative sum of heads\n",
    "s = np.cumsum(coin == 'head')\n",
    "\n",
    "# Index = how many times we have flipped the coin so far\n",
    "i = np.arange(len(s)) + 1\n",
    "\n",
    "probability_of_getting_hds = 100*(s/i)\n",
    "print(probability_of_getting_hds)\n",
    "# Make a graph of the cumulative sum of heads\n",
    "fig = plt.figure()\n",
    "ax = fig.add_subplot(111)\n",
    "\n",
    "ax.plot(i, probability_of_getting_hds, label = 'probaility of head')\n",
    "ax.legend(loc = 'upper left')\n",
    "plt.grid()\n",
    "ax.set(title ='cumulative sum', ylabel='Number of times we got heads', xlabel = 'Number of times coin was flipped')\n",
    "\n"
   ]
  },
  {
   "cell_type": "markdown",
   "metadata": {},
   "source": [
    "Based on that graph, estimate roughly how many times do you need to flip the coin before the probability stabilizes around the value of 0.5."
   ]
  },
  {
   "cell_type": "raw",
   "metadata": {},
   "source": [
    "Your answer: 400 times"
   ]
  },
  {
   "cell_type": "markdown",
   "metadata": {},
   "source": [
    "### (Bonus) Exercise. Repeating the probability run\n",
    "\n",
    "Make a loop that repeats the previous exercise of making the graph of probability several times. Draw the repetitions into the same graph, where each repetition is plotted overlayed each other. \n",
    "\n",
    "How does that graphics look like? How many times we need to flip the coin before we can say that the probability is about 0.5 to get the head?"
   ]
  },
  {
   "cell_type": "code",
   "execution_count": 11,
   "metadata": {
    "collapsed": false
   },
   "outputs": [
    {
     "data": {
      "image/png": "[encoded data removed]",
      "text/plain": [
       "<matplotlib.figure.Figure at 0xc164dd048>"
      ]
     },
     "metadata": {},
     "output_type": "display_data"
    }
   ],
   "source": [
    "fig = plt.figure()\n",
    "ax = fig.add_subplot(111)\n",
    "for i in range (1000):\n",
    "    N = 1000\n",
    "    coin = rnd.choice(['head', 'tail'], N)\n",
    "\n",
    "    # Calculate cumulative sum of heads\n",
    "    s = np.cumsum(coin == 'head')\n",
    "\n",
    "    # Index = how many times we have flipped the coin so far\n",
    "    i = np.arange(len(s)) + 1\n",
    "\n",
    "    prob = 100*(s/i)\n",
    "    #print(prob)\n",
    "    # Make a graph of the cumulative sum of heads    \n",
    "    ax.plot(i, prob, label = 'probaility of head')\n",
    "    #ax.legend(loc = 'upper left')\n",
    "    plt.grid()\n",
    "    ax.set(title ='cumulative sum', ylabel='Number of times we got heads', xlabel = 'Number of times coin was flipped')"
   ]
  },
  {
   "cell_type": "markdown",
   "metadata": {},
   "source": [
    "## Averaging random numbers\n",
    "\n",
    "In this exercise we continue flipping the coin. Now we want to calculate the average value of heads. For this exercise you need the code from previous ones."
   ]
  },
  {
   "cell_type": "markdown",
   "metadata": {},
   "source": [
    "Let's assume that you have repeated the 100 coin flipping experiment 10 times and got the following numbers of heads on each run."
   ]
  },
  {
   "cell_type": "code",
   "execution_count": 7,
   "metadata": {
    "collapsed": false
   },
   "outputs": [],
   "source": [
    "s = [ 55,  56,  45,  51,  52,  52,  52,  55,  51,  56]"
   ]
  },
  {
   "cell_type": "markdown",
   "metadata": {},
   "source": [
    "What are the average and standard deviation of these numbers?\n",
    "\n",
    "Tip: Search help for `np.mean` and `np.std`."
   ]
  },
  {
   "cell_type": "code",
   "execution_count": 84,
   "metadata": {
    "collapsed": false
   },
   "outputs": [
    {
     "name": "stdout",
     "output_type": "stream",
     "text": [
      "52.5\n",
      "3.1384709653\n"
     ]
    }
   ],
   "source": [
    "s = [ 55,  56,  45,  51,  52,  52,  52,  55,  51,  56]\n",
    "print(np.mean(s))\n",
    "print(np.std(s))"
   ]
  },
  {
   "cell_type": "markdown",
   "metadata": {},
   "source": [
    "### Exercise 6. Average and standard deviation of flipping the coin\n",
    "\n",
    "Use the code of exercise 4 here again. Change and explore the number of coin flippings you are summing up and number of times  you loop the experiment. Draw histograms and calculate the average and standard deviation of each simulation.\n",
    "\n",
    "How do the average and standard deviation of the sum of heads depend on the number of times the coin was flipped and the number of times the experiment was repeated?"
   ]
  },
  {
   "cell_type": "code",
   "execution_count": 29,
   "metadata": {
    "collapsed": false
   },
   "outputs": [
    {
     "data": {
      "text/plain": [
       "(array([  2.,   3.,   8.,  21.,  21.,  18.,  18.,   6.,   3.]),\n",
       " array([ 4.6811835 ,  4.74942574,  4.81766798,  4.88591021,  4.95415245,\n",
       "         5.02239469,  5.09063692,  5.15887916,  5.2271214 ,  5.29536363]),\n",
       " <a list of 9 Patch objects>)"
      ]
     },
     "execution_count": 29,
     "metadata": {},
     "output_type": "execute_result"
    },
    {
     "data": {
      "image/png": "[encoded data removed]",
      "text/plain": [
       "<matplotlib.figure.Figure at 0xcdfaabc710>"
      ]
     },
     "metadata": {},
     "output_type": "display_data"
    },
    {
     "data": {
      "image/png": "[encoded data removed]",
      "text/plain": [
       "<matplotlib.figure.Figure at 0xcdfab4fb38>"
      ]
     },
     "metadata": {},
     "output_type": "display_data"
    }
   ],
   "source": [
    "fig=plt.figure()\n",
    "ax = fig.add_subplot(111)\n",
    "fig1=plt.figure()\n",
    "ax1 = fig1.add_subplot(111)\n",
    "\n",
    "mean = np.zeros((100,))\n",
    "std = np.zeros((100,))\n",
    "sum_of_head = np.zeros(1000)\n",
    "\n",
    "for j in range(100):\n",
    "    for i in range(1000):\n",
    "        coin3 = np.random.choice(['head','tail'],100)\n",
    "        sum_of_head[i] = sum(coin3 == 'head')\n",
    "        \n",
    "    mean[j] = np.mean(sum_of_head)\n",
    "    std[j] = np.std(sum_of_head)\n",
    "\n",
    "    \n",
    "ax.hist(mean, bins='auto')\n",
    "ax1.hist(std, bins='auto')\n"
   ]
  },
  {
   "cell_type": "code",
   "execution_count": null,
   "metadata": {
    "collapsed": true
   },
   "outputs": [],
   "source": []
  }
 ],
 "metadata": {
  "kernelspec": {
   "display_name": "Python 3",
   "language": "python",
   "name": "python3"
  },
  "language_info": {
   "codemirror_mode": {
    "name": "ipython",
    "version": 3
   },
   "file_extension": ".py",
   "mimetype": "text/x-python",
   "name": "python",
   "nbconvert_exporter": "python",
   "pygments_lexer": "ipython3",
   "version": "3.6.0"
  }
 },
 "nbformat": 4,
 "nbformat_minor": 0
}
