{
 "cells": [
  {
   "cell_type": "markdown",
   "metadata": {},
   "source": [
    "# Lab 1a. Arrays\n",
    "Probability and Statistics, Spring 2017    \n",
    "CC BY-NC-SA, Sakari Lukkarinen   \n",
    "Helsinki Metropolia University of Applied Sciences\n",
    "\n",
    "Book: Johansson. (2015). [Numerical Python: A Practical Techniques Approach For Industry.](https://metropolia.finna.fi/Record/nelli15.3710000000486209)"
   ]
  },
  {
   "cell_type": "markdown",
   "metadata": {},
   "source": [
    "## Chapter 2. Vectors, Matrices and Multidimensional Arrays"
   ]
  },
  {
   "cell_type": "markdown",
   "metadata": {},
   "source": [
    "Import numerical python library and refer it as np."
   ]
  },
  {
   "cell_type": "code",
   "execution_count": 10,
   "metadata": {
    "collapsed": true
   },
   "outputs": [],
   "source": [
    "import numpy as np"
   ]
  },
  {
   "cell_type": "markdown",
   "metadata": {},
   "source": [
    "Create a numerical array having the values: `1, 3, 3, 4, 2, 2, 5, 6, 9'"
   ]
  },
  {
   "cell_type": "code",
   "execution_count": 52,
   "metadata": {
    "collapsed": false,
    "scrolled": true
   },
   "outputs": [
    {
     "name": "stdout",
     "output_type": "stream",
     "text": [
      "[1 3 3 4 2 2 5 6 7]\n"
     ]
    }
   ],
   "source": [
    "import numpy as np\n",
    "x = np.array([1, 3, 3, 4, 2, 2, 5, 6, 7])\n",
    "print(x)"
   ]
  },
  {
   "cell_type": "markdown",
   "metadata": {},
   "source": [
    "Find the dimensions, shape, size, data type and number of bytes in the array."
   ]
  },
  {
   "cell_type": "code",
   "execution_count": 20,
   "metadata": {
    "collapsed": false
   },
   "outputs": [
    {
     "name": "stdout",
     "output_type": "stream",
     "text": [
      "(9,)\n",
      "9\n",
      "1\n",
      "9\n",
      "int32\n",
      "int32\n"
     ]
    }
   ],
   "source": [
    "print(x.shape)\n",
    "print(len(x))\n",
    "print(x.ndim)\n",
    "print(x.size)\n",
    "print(x.dtype)\n",
    "print(x.dtype.name)\n"
   ]
  },
  {
   "cell_type": "markdown",
   "metadata": {},
   "source": [
    "Create an array of of shape (100,1) filled with \n",
    "\n",
    "a) zeros,    \n",
    "b) ones,    \n",
    "c) value of 3.14.   "
   ]
  },
  {
   "cell_type": "code",
   "execution_count": 24,
   "metadata": {
    "collapsed": false
   },
   "outputs": [
    {
     "name": "stdout",
     "output_type": "stream",
     "text": [
      "[[ 0.]\n",
      " [ 0.]\n",
      " [ 0.]\n",
      " [ 0.]\n",
      " [ 0.]\n",
      " [ 0.]\n",
      " [ 0.]\n",
      " [ 0.]\n",
      " [ 0.]\n",
      " [ 0.]\n",
      " [ 0.]\n",
      " [ 0.]\n",
      " [ 0.]\n",
      " [ 0.]\n",
      " [ 0.]\n",
      " [ 0.]\n",
      " [ 0.]\n",
      " [ 0.]\n",
      " [ 0.]\n",
      " [ 0.]\n",
      " [ 0.]\n",
      " [ 0.]\n",
      " [ 0.]\n",
      " [ 0.]\n",
      " [ 0.]\n",
      " [ 0.]\n",
      " [ 0.]\n",
      " [ 0.]\n",
      " [ 0.]\n",
      " [ 0.]\n",
      " [ 0.]\n",
      " [ 0.]\n",
      " [ 0.]\n",
      " [ 0.]\n",
      " [ 0.]\n",
      " [ 0.]\n",
      " [ 0.]\n",
      " [ 0.]\n",
      " [ 0.]\n",
      " [ 0.]\n",
      " [ 0.]\n",
      " [ 0.]\n",
      " [ 0.]\n",
      " [ 0.]\n",
      " [ 0.]\n",
      " [ 0.]\n",
      " [ 0.]\n",
      " [ 0.]\n",
      " [ 0.]\n",
      " [ 0.]\n",
      " [ 0.]\n",
      " [ 0.]\n",
      " [ 0.]\n",
      " [ 0.]\n",
      " [ 0.]\n",
      " [ 0.]\n",
      " [ 0.]\n",
      " [ 0.]\n",
      " [ 0.]\n",
      " [ 0.]\n",
      " [ 0.]\n",
      " [ 0.]\n",
      " [ 0.]\n",
      " [ 0.]\n",
      " [ 0.]\n",
      " [ 0.]\n",
      " [ 0.]\n",
      " [ 0.]\n",
      " [ 0.]\n",
      " [ 0.]\n",
      " [ 0.]\n",
      " [ 0.]\n",
      " [ 0.]\n",
      " [ 0.]\n",
      " [ 0.]\n",
      " [ 0.]\n",
      " [ 0.]\n",
      " [ 0.]\n",
      " [ 0.]\n",
      " [ 0.]\n",
      " [ 0.]\n",
      " [ 0.]\n",
      " [ 0.]\n",
      " [ 0.]\n",
      " [ 0.]\n",
      " [ 0.]\n",
      " [ 0.]\n",
      " [ 0.]\n",
      " [ 0.]\n",
      " [ 0.]\n",
      " [ 0.]\n",
      " [ 0.]\n",
      " [ 0.]\n",
      " [ 0.]\n",
      " [ 0.]\n",
      " [ 0.]\n",
      " [ 0.]\n",
      " [ 0.]\n",
      " [ 0.]\n",
      " [ 0.]]\n",
      "[[ 1.]\n",
      " [ 1.]\n",
      " [ 1.]\n",
      " [ 1.]\n",
      " [ 1.]\n",
      " [ 1.]\n",
      " [ 1.]\n",
      " [ 1.]\n",
      " [ 1.]\n",
      " [ 1.]\n",
      " [ 1.]\n",
      " [ 1.]\n",
      " [ 1.]\n",
      " [ 1.]\n",
      " [ 1.]\n",
      " [ 1.]\n",
      " [ 1.]\n",
      " [ 1.]\n",
      " [ 1.]\n",
      " [ 1.]\n",
      " [ 1.]\n",
      " [ 1.]\n",
      " [ 1.]\n",
      " [ 1.]\n",
      " [ 1.]\n",
      " [ 1.]\n",
      " [ 1.]\n",
      " [ 1.]\n",
      " [ 1.]\n",
      " [ 1.]\n",
      " [ 1.]\n",
      " [ 1.]\n",
      " [ 1.]\n",
      " [ 1.]\n",
      " [ 1.]\n",
      " [ 1.]\n",
      " [ 1.]\n",
      " [ 1.]\n",
      " [ 1.]\n",
      " [ 1.]\n",
      " [ 1.]\n",
      " [ 1.]\n",
      " [ 1.]\n",
      " [ 1.]\n",
      " [ 1.]\n",
      " [ 1.]\n",
      " [ 1.]\n",
      " [ 1.]\n",
      " [ 1.]\n",
      " [ 1.]\n",
      " [ 1.]\n",
      " [ 1.]\n",
      " [ 1.]\n",
      " [ 1.]\n",
      " [ 1.]\n",
      " [ 1.]\n",
      " [ 1.]\n",
      " [ 1.]\n",
      " [ 1.]\n",
      " [ 1.]\n",
      " [ 1.]\n",
      " [ 1.]\n",
      " [ 1.]\n",
      " [ 1.]\n",
      " [ 1.]\n",
      " [ 1.]\n",
      " [ 1.]\n",
      " [ 1.]\n",
      " [ 1.]\n",
      " [ 1.]\n",
      " [ 1.]\n",
      " [ 1.]\n",
      " [ 1.]\n",
      " [ 1.]\n",
      " [ 1.]\n",
      " [ 1.]\n",
      " [ 1.]\n",
      " [ 1.]\n",
      " [ 1.]\n",
      " [ 1.]\n",
      " [ 1.]\n",
      " [ 1.]\n",
      " [ 1.]\n",
      " [ 1.]\n",
      " [ 1.]\n",
      " [ 1.]\n",
      " [ 1.]\n",
      " [ 1.]\n",
      " [ 1.]\n",
      " [ 1.]\n",
      " [ 1.]\n",
      " [ 1.]\n",
      " [ 1.]\n",
      " [ 1.]\n",
      " [ 1.]\n",
      " [ 1.]\n",
      " [ 1.]\n",
      " [ 1.]\n",
      " [ 1.]\n",
      " [ 1.]]\n",
      "[[ 3.14]\n",
      " [ 3.14]\n",
      " [ 3.14]\n",
      " [ 3.14]\n",
      " [ 3.14]\n",
      " [ 3.14]\n",
      " [ 3.14]\n",
      " [ 3.14]\n",
      " [ 3.14]\n",
      " [ 3.14]\n",
      " [ 3.14]\n",
      " [ 3.14]\n",
      " [ 3.14]\n",
      " [ 3.14]\n",
      " [ 3.14]\n",
      " [ 3.14]\n",
      " [ 3.14]\n",
      " [ 3.14]\n",
      " [ 3.14]\n",
      " [ 3.14]\n",
      " [ 3.14]\n",
      " [ 3.14]\n",
      " [ 3.14]\n",
      " [ 3.14]\n",
      " [ 3.14]\n",
      " [ 3.14]\n",
      " [ 3.14]\n",
      " [ 3.14]\n",
      " [ 3.14]\n",
      " [ 3.14]\n",
      " [ 3.14]\n",
      " [ 3.14]\n",
      " [ 3.14]\n",
      " [ 3.14]\n",
      " [ 3.14]\n",
      " [ 3.14]\n",
      " [ 3.14]\n",
      " [ 3.14]\n",
      " [ 3.14]\n",
      " [ 3.14]\n",
      " [ 3.14]\n",
      " [ 3.14]\n",
      " [ 3.14]\n",
      " [ 3.14]\n",
      " [ 3.14]\n",
      " [ 3.14]\n",
      " [ 3.14]\n",
      " [ 3.14]\n",
      " [ 3.14]\n",
      " [ 3.14]\n",
      " [ 3.14]\n",
      " [ 3.14]\n",
      " [ 3.14]\n",
      " [ 3.14]\n",
      " [ 3.14]\n",
      " [ 3.14]\n",
      " [ 3.14]\n",
      " [ 3.14]\n",
      " [ 3.14]\n",
      " [ 3.14]\n",
      " [ 3.14]\n",
      " [ 3.14]\n",
      " [ 3.14]\n",
      " [ 3.14]\n",
      " [ 3.14]\n",
      " [ 3.14]\n",
      " [ 3.14]\n",
      " [ 3.14]\n",
      " [ 3.14]\n",
      " [ 3.14]\n",
      " [ 3.14]\n",
      " [ 3.14]\n",
      " [ 3.14]\n",
      " [ 3.14]\n",
      " [ 3.14]\n",
      " [ 3.14]\n",
      " [ 3.14]\n",
      " [ 3.14]\n",
      " [ 3.14]\n",
      " [ 3.14]\n",
      " [ 3.14]\n",
      " [ 3.14]\n",
      " [ 3.14]\n",
      " [ 3.14]\n",
      " [ 3.14]\n",
      " [ 3.14]\n",
      " [ 3.14]\n",
      " [ 3.14]\n",
      " [ 3.14]\n",
      " [ 3.14]\n",
      " [ 3.14]\n",
      " [ 3.14]\n",
      " [ 3.14]\n",
      " [ 3.14]\n",
      " [ 3.14]\n",
      " [ 3.14]\n",
      " [ 3.14]\n",
      " [ 3.14]\n",
      " [ 3.14]\n",
      " [ 3.14]]\n"
     ]
    }
   ],
   "source": [
    "import numpy as np\n",
    "a = np.zeros((100,1))\n",
    "b = np.ones((100,1))\n",
    "c = np.full((100,1),3.14)\n",
    "print(a)\n",
    "print(b)\n",
    "print(c)"
   ]
  },
  {
   "cell_type": "markdown",
   "metadata": {},
   "source": [
    "Create an array having numbers from 1 to 100."
   ]
  },
  {
   "cell_type": "code",
   "execution_count": 69,
   "metadata": {
    "collapsed": false,
    "scrolled": true
   },
   "outputs": [
    {
     "name": "stdout",
     "output_type": "stream",
     "text": [
      "[   1.    2.    3.    4.    5.    6.    7.    8.    9.   10.   11.   12.\n",
      "   13.   14.   15.   16.   17.   18.   19.   20.   21.   22.   23.   24.\n",
      "   25.   26.   27.   28.   29.   30.   31.   32.   33.   34.   35.   36.\n",
      "   37.   38.   39.   40.   41.   42.   43.   44.   45.   46.   47.   48.\n",
      "   49.   50.   51.   52.   53.   54.   55.   56.   57.   58.   59.   60.\n",
      "   61.   62.   63.   64.   65.   66.   67.   68.   69.   70.   71.   72.\n",
      "   73.   74.   75.   76.   77.   78.   79.   80.   81.   82.   83.   84.\n",
      "   85.   86.   87.   88.   89.   90.   91.   92.   93.   94.   95.   96.\n",
      "   97.   98.   99.  100.]\n"
     ]
    }
   ],
   "source": [
    "d = np.zeros((100,))\n",
    "for i in range (1,101):  \n",
    "    d[i-1] = i\n",
    "    \n",
    "print(d)"
   ]
  },
  {
   "cell_type": "markdown",
   "metadata": {},
   "source": [
    "Create an array having number from 1.0 to 3.0 with step size of 0.1"
   ]
  },
  {
   "cell_type": "code",
   "execution_count": 74,
   "metadata": {
    "collapsed": false
   },
   "outputs": [
    {
     "name": "stdout",
     "output_type": "stream",
     "text": [
      "[ 1.   1.1  1.2  1.3  1.4  1.5  1.6  1.7  1.8  1.9  2.   2.1  2.2  2.3  2.4\n",
      "  2.5  2.6  2.7  2.8  2.9  3. ]\n"
     ]
    }
   ],
   "source": [
    "e = np.arange(1,3.1,0.1) \n",
    "print(e)"
   ]
  },
  {
   "cell_type": "markdown",
   "metadata": {},
   "source": [
    "Create an array having 10 evenly spaced value between 1.0 and 7.2."
   ]
  },
  {
   "cell_type": "code",
   "execution_count": 78,
   "metadata": {
    "collapsed": false
   },
   "outputs": [
    {
     "name": "stdout",
     "output_type": "stream",
     "text": [
      "[ 1.          1.68888889  2.37777778  3.06666667  3.75555556  4.44444444\n",
      "  5.13333333  5.82222222  6.51111111  7.2       ]\n"
     ]
    }
   ],
   "source": [
    "f = np.linspace(1,7.2,10) \n",
    "print(f)"
   ]
  },
  {
   "cell_type": "markdown",
   "metadata": {},
   "source": [
    "What is the value of the 5th element in the array created in previous exercise?"
   ]
  },
  {
   "cell_type": "code",
   "execution_count": 80,
   "metadata": {
    "collapsed": false
   },
   "outputs": [
    {
     "data": {
      "text/plain": [
       "3.7555555555555555"
      ]
     },
     "execution_count": 80,
     "metadata": {},
     "output_type": "execute_result"
    }
   ],
   "source": [
    "f[4]"
   ]
  },
  {
   "cell_type": "markdown",
   "metadata": {},
   "source": [
    "Select the elements from 5 to 7 from the array."
   ]
  },
  {
   "cell_type": "code",
   "execution_count": 104,
   "metadata": {
    "collapsed": false
   },
   "outputs": [
    {
     "data": {
      "text/plain": [
       "array([ 5.13333333,  5.82222222,  6.51111111])"
      ]
     },
     "execution_count": 104,
     "metadata": {},
     "output_type": "execute_result"
    }
   ],
   "source": [
    "f[(f>5)][f[(f>5)]<7]\n"
   ]
  },
  {
   "cell_type": "markdown",
   "metadata": {},
   "source": [
    "Select two last elements from the array."
   ]
  },
  {
   "cell_type": "code",
   "execution_count": 108,
   "metadata": {
    "collapsed": false
   },
   "outputs": [
    {
     "data": {
      "text/plain": [
       "array([ 6.51111111,  7.2       ])"
      ]
     },
     "execution_count": 108,
     "metadata": {},
     "output_type": "execute_result"
    }
   ],
   "source": [
    "f[8:10]"
   ]
  },
  {
   "cell_type": "markdown",
   "metadata": {},
   "source": [
    "Create a 10 x 10 array filled with zeros."
   ]
  },
  {
   "cell_type": "code",
   "execution_count": 109,
   "metadata": {
    "collapsed": false
   },
   "outputs": [
    {
     "data": {
      "text/plain": [
       "array([[ 0.,  0.,  0.,  0.,  0.,  0.,  0.,  0.,  0.,  0.],\n",
       "       [ 0.,  0.,  0.,  0.,  0.,  0.,  0.,  0.,  0.,  0.],\n",
       "       [ 0.,  0.,  0.,  0.,  0.,  0.,  0.,  0.,  0.,  0.],\n",
       "       [ 0.,  0.,  0.,  0.,  0.,  0.,  0.,  0.,  0.,  0.],\n",
       "       [ 0.,  0.,  0.,  0.,  0.,  0.,  0.,  0.,  0.,  0.],\n",
       "       [ 0.,  0.,  0.,  0.,  0.,  0.,  0.,  0.,  0.,  0.],\n",
       "       [ 0.,  0.,  0.,  0.,  0.,  0.,  0.,  0.,  0.,  0.],\n",
       "       [ 0.,  0.,  0.,  0.,  0.,  0.,  0.,  0.,  0.,  0.],\n",
       "       [ 0.,  0.,  0.,  0.,  0.,  0.,  0.,  0.,  0.,  0.],\n",
       "       [ 0.,  0.,  0.,  0.,  0.,  0.,  0.,  0.,  0.,  0.]])"
      ]
     },
     "execution_count": 109,
     "metadata": {},
     "output_type": "execute_result"
    }
   ],
   "source": [
    "g = np.zeros((10,10))"
   ]
  },
  {
   "cell_type": "markdown",
   "metadata": {},
   "source": [
    "Replace the values with values from 1 to 100 in the previous array."
   ]
  },
  {
   "cell_type": "code",
   "execution_count": 136,
   "metadata": {
    "collapsed": false
   },
   "outputs": [
    {
     "name": "stdout",
     "output_type": "stream",
     "text": [
      "[[   1.    2.    3.    4.    5.    6.    7.    8.    9.   10.]\n",
      " [  11.   12.   13.   14.   15.   16.   17.   18.   19.   20.]\n",
      " [  21.   22.   23.   24.   25.   26.   27.   28.   29.   30.]\n",
      " [  31.   32.   33.   34.   35.   36.   37.   38.   39.   40.]\n",
      " [  41.   42.   43.   44.   45.   46.   47.   48.   49.   50.]\n",
      " [  51.   52.   53.   54.   55.   56.   57.   58.   59.   60.]\n",
      " [  61.   62.   63.   64.   65.   66.   67.   68.   69.   70.]\n",
      " [  71.   72.   73.   74.   75.   76.   77.   78.   79.   80.]\n",
      " [  81.   82.   83.   84.   85.   86.   87.   88.   89.   90.]\n",
      " [  91.   92.   93.   94.   95.   96.   97.   98.   99.  100.]]\n"
     ]
    }
   ],
   "source": [
    "g = np.zeros((10,10))\n",
    "j=0\n",
    "k=0\n",
    "for i in range (1,101):    \n",
    "    g[j,k] = i\n",
    "    k=k+1\n",
    "    if(i%2 == 0 and i%5 == 0 ):\n",
    "        j=j+1\n",
    "        k=0\n",
    "print(g)"
   ]
  },
  {
   "cell_type": "markdown",
   "metadata": {},
   "source": [
    "Clear (change the values to zero) the 3rd row in the array."
   ]
  },
  {
   "cell_type": "code",
   "execution_count": 144,
   "metadata": {
    "collapsed": false
   },
   "outputs": [
    {
     "name": "stdout",
     "output_type": "stream",
     "text": [
      "[[   1.    2.    3.    4.    5.    6.    7.    8.    9.   10.]\n",
      " [  11.   12.   13.   14.   15.   16.   17.   18.   19.   20.]\n",
      " [   0.    0.    0.    0.    0.    0.    0.    0.    0.    0.]\n",
      " [  31.   32.   33.   34.   35.   36.   37.   38.   39.   40.]\n",
      " [  41.   42.   43.   44.   45.   46.   47.   48.   49.   50.]\n",
      " [  51.   52.   53.   54.   55.   56.   57.   58.   59.   60.]\n",
      " [  61.   62.   63.   64.   65.   66.   67.   68.   69.   70.]\n",
      " [  71.   72.   73.   74.   75.   76.   77.   78.   79.   80.]\n",
      " [  81.   82.   83.   84.   85.   86.   87.   88.   89.   90.]\n",
      " [  91.   92.   93.   94.   95.   96.   97.   98.   99.  100.]]\n"
     ]
    }
   ],
   "source": [
    "g = np.zeros((10,10))\n",
    "j=0\n",
    "k=0\n",
    "for i in range (1,101):    \n",
    "    g[j,k] = i\n",
    "    k=k+1\n",
    "    if(i%2 == 0 and i%5 == 0 ):\n",
    "        j=j+1\n",
    "        k=0\n",
    "\n",
    "g[2:3]=0\n",
    "print(g)"
   ]
  },
  {
   "cell_type": "markdown",
   "metadata": {},
   "source": [
    "Clear the 7th column in the array"
   ]
  },
  {
   "cell_type": "code",
   "execution_count": 146,
   "metadata": {
    "collapsed": false
   },
   "outputs": [
    {
     "name": "stdout",
     "output_type": "stream",
     "text": [
      "[[   1.    2.    3.    4.    5.    6.    7.    8.    9.   10.]\n",
      " [  11.   12.   13.   14.   15.   16.   17.   18.   19.   20.]\n",
      " [   0.    0.    0.    0.    0.    0.    0.    0.    0.    0.]\n",
      " [  31.   32.   33.   34.   35.   36.   37.   38.   39.   40.]\n",
      " [  41.   42.   43.   44.   45.   46.   47.   48.   49.   50.]\n",
      " [  51.   52.   53.   54.   55.   56.   57.   58.   59.   60.]\n",
      " [   0.    0.    0.    0.    0.    0.    0.    0.    0.    0.]\n",
      " [  71.   72.   73.   74.   75.   76.   77.   78.   79.   80.]\n",
      " [  81.   82.   83.   84.   85.   86.   87.   88.   89.   90.]\n",
      " [  91.   92.   93.   94.   95.   96.   97.   98.   99.  100.]]\n"
     ]
    }
   ],
   "source": [
    "g = np.zeros((10,10))\n",
    "j=0\n",
    "k=0\n",
    "for i in range (1,101):    \n",
    "    g[j,k] = i\n",
    "    k=k+1\n",
    "    if(i%2 == 0 and i%5 == 0 ):\n",
    "        j=j+1\n",
    "        k=0\n",
    "\n",
    "g[2:3]=0\n",
    "g[6:7]=0\n",
    "print(g)"
   ]
  },
  {
   "cell_type": "markdown",
   "metadata": {},
   "source": [
    "Create and array having the values `1, 3, 3, 5, 4, 2, 7, 9`"
   ]
  },
  {
   "cell_type": "code",
   "execution_count": 148,
   "metadata": {
    "collapsed": false
   },
   "outputs": [
    {
     "name": "stdout",
     "output_type": "stream",
     "text": [
      "[1 3 3 5 4 2 7 9]\n"
     ]
    }
   ],
   "source": [
    "h=np.array([1,3,3,5,4,2,7,9])\n",
    "print(h)"
   ]
  },
  {
   "cell_type": "markdown",
   "metadata": {},
   "source": [
    "Find all values in the array being greater than 4."
   ]
  },
  {
   "cell_type": "code",
   "execution_count": 149,
   "metadata": {
    "collapsed": false
   },
   "outputs": [
    {
     "data": {
      "text/plain": [
       "array([5, 7, 9])"
      ]
     },
     "execution_count": 149,
     "metadata": {},
     "output_type": "execute_result"
    }
   ],
   "source": [
    "h[h>4]"
   ]
  },
  {
   "cell_type": "markdown",
   "metadata": {},
   "source": [
    "Change all the value being less or equal to 3 to value `nan`"
   ]
  },
  {
   "cell_type": "code",
   "execution_count": 164,
   "metadata": {
    "collapsed": false
   },
   "outputs": [
    {
     "name": "stdout",
     "output_type": "stream",
     "text": [
      "8\n",
      "[ nan  nan  nan   5.   4.  nan   7.   9.]\n"
     ]
    }
   ],
   "source": [
    "h=np.array([1,3,3,5,4,2,7,9] , dtype = float)\n",
    "h[h<4]=np.nan\n",
    "print(h)"
   ]
  },
  {
   "cell_type": "markdown",
   "metadata": {},
   "source": [
    "Create two arrays, the first having values `1, 3, 5` and the second `2, 4, 6`"
   ]
  },
  {
   "cell_type": "code",
   "execution_count": 170,
   "metadata": {
    "collapsed": false
   },
   "outputs": [
    {
     "name": "stdout",
     "output_type": "stream",
     "text": [
      "[ 1.  3.  5.]\n",
      "[ 2.  4.  6.]\n"
     ]
    }
   ],
   "source": [
    "k = np.array([1,3,5], dtype = float)\n",
    "l = np.array([2,4,6], dtype = float)\n",
    "print(k)\n",
    "print(l)"
   ]
  },
  {
   "cell_type": "markdown",
   "metadata": {},
   "source": [
    "Combine the arrays horizontally (e.g. make a one long row)."
   ]
  },
  {
   "cell_type": "code",
   "execution_count": 176,
   "metadata": {
    "collapsed": false
   },
   "outputs": [
    {
     "name": "stdout",
     "output_type": "stream",
     "text": [
      "[ 1.  3.  5.  2.  4.  6.]\n"
     ]
    }
   ],
   "source": [
    "m = np.concatenate((k,l), axis = 0)\n",
    "print(m)"
   ]
  },
  {
   "cell_type": "markdown",
   "metadata": {},
   "source": [
    "Combine the arrays vertically (e.g. make an array having two rows)."
   ]
  },
  {
   "cell_type": "code",
   "execution_count": 178,
   "metadata": {
    "collapsed": false
   },
   "outputs": [
    {
     "name": "stdout",
     "output_type": "stream",
     "text": [
      "[[ 1.  3.  5.]\n",
      " [ 2.  4.  6.]]\n"
     ]
    }
   ],
   "source": [
    "n = np.vstack((k,l))\n",
    "print(n)"
   ]
  },
  {
   "cell_type": "markdown",
   "metadata": {},
   "source": [
    "Combine the arrays and sort them in ascending order."
   ]
  },
  {
   "cell_type": "code",
   "execution_count": 180,
   "metadata": {
    "collapsed": false
   },
   "outputs": [
    {
     "name": "stdout",
     "output_type": "stream",
     "text": [
      "[ 1.  2.  3.  4.  5.  6.]\n"
     ]
    }
   ],
   "source": [
    "m = np.append(k,l)\n",
    "m.sort(axis=0)\n",
    "print(m)"
   ]
  },
  {
   "cell_type": "markdown",
   "metadata": {},
   "source": [
    "Create an array having numbers from 0.0 to 1.0 with stepsize 0.05."
   ]
  },
  {
   "cell_type": "code",
   "execution_count": 182,
   "metadata": {
    "collapsed": false
   },
   "outputs": [
    {
     "name": "stdout",
     "output_type": "stream",
     "text": [
      "[ 0.   0.1  0.2  0.3  0.4  0.5  0.6  0.7  0.8  0.9  1. ]\n"
     ]
    }
   ],
   "source": [
    "o = np.arange(0,1.1,0.1) \n",
    "print(o)"
   ]
  },
  {
   "cell_type": "markdown",
   "metadata": {},
   "source": [
    "Calculate the sine of each element in the previous exercise."
   ]
  },
  {
   "cell_type": "code",
   "execution_count": 183,
   "metadata": {
    "collapsed": false
   },
   "outputs": [
    {
     "name": "stdout",
     "output_type": "stream",
     "text": [
      "[ 0.          0.09983342  0.19866933  0.29552021  0.38941834  0.47942554\n",
      "  0.56464247  0.64421769  0.71735609  0.78332691  0.84147098]\n"
     ]
    }
   ],
   "source": [
    "p = np.sin(o)\n",
    "print(p)"
   ]
  },
  {
   "cell_type": "markdown",
   "metadata": {},
   "source": [
    "Calculate the square root of each element."
   ]
  },
  {
   "cell_type": "code",
   "execution_count": 184,
   "metadata": {
    "collapsed": false
   },
   "outputs": [
    {
     "name": "stdout",
     "output_type": "stream",
     "text": [
      "[ 0.          0.31622777  0.4472136   0.54772256  0.63245553  0.70710678\n",
      "  0.77459667  0.83666003  0.89442719  0.9486833   1.        ]\n"
     ]
    }
   ],
   "source": [
    "q = np.sqrt(o)\n",
    "print(q)"
   ]
  },
  {
   "cell_type": "markdown",
   "metadata": {},
   "source": [
    "Calculate $y=3x^2 - 5x + 3$, when x varies from -5 to 5 with stepsize of 0.5"
   ]
  },
  {
   "cell_type": "code",
   "execution_count": 203,
   "metadata": {
    "collapsed": false
   },
   "outputs": [
    {
     "name": "stdout",
     "output_type": "stream",
     "text": [
      "[ 103.     86.25   71.     57.25   45.     34.25   25.     17.25   11.\n",
      "    6.25    3.      1.25    1.      2.25    5.      9.25   15.     22.25\n",
      "   31.     41.25   53.  ]\n"
     ]
    }
   ],
   "source": [
    "r = np.arange(-5,5.1,0.5)\n",
    "koko = r.size\n",
    "s = r.copy()\n",
    "for i in range (0, koko):\n",
    "    val = r[i];\n",
    "    result = 3*(val**2) - 5*val + 3\n",
    "    s[i] = result\n",
    "print(s)"
   ]
  },
  {
   "cell_type": "markdown",
   "metadata": {},
   "source": [
    "Convert the values of the previous exercise to the closest integer."
   ]
  },
  {
   "cell_type": "code",
   "execution_count": 204,
   "metadata": {
    "collapsed": false
   },
   "outputs": [
    {
     "name": "stdout",
     "output_type": "stream",
     "text": [
      "[103  86  71  57  45  34  25  17  11   6   3   1   1   2   5   9  15  22\n",
      "  31  41  53]\n"
     ]
    }
   ],
   "source": [
    "t = s.astype(int)\n",
    "print(t)"
   ]
  },
  {
   "cell_type": "markdown",
   "metadata": {},
   "source": [
    "Create a numerical array having the values: `1, 3, 3, 4, 2, 2, 5, 6, 9'"
   ]
  },
  {
   "cell_type": "code",
   "execution_count": 205,
   "metadata": {
    "collapsed": false
   },
   "outputs": [
    {
     "name": "stdout",
     "output_type": "stream",
     "text": [
      "[1 3 3 4 2 2 5 6 9]\n"
     ]
    }
   ],
   "source": [
    "u=np.array([1,3,3,4,2,2,5,6,9])\n",
    "print(u)"
   ]
  },
  {
   "cell_type": "markdown",
   "metadata": {},
   "source": [
    "Calculate the mean and standard deviation of the array"
   ]
  },
  {
   "cell_type": "code",
   "execution_count": 208,
   "metadata": {
    "collapsed": false
   },
   "outputs": [
    {
     "name": "stdout",
     "output_type": "stream",
     "text": [
      "3.88888888889\n",
      "2.33068632927\n"
     ]
    }
   ],
   "source": [
    "mean = u.mean()\n",
    "std = np.std(u)\n",
    "print(mean)\n",
    "print(std)"
   ]
  },
  {
   "cell_type": "markdown",
   "metadata": {},
   "source": [
    "Find the minimum, the maximum, and the median values of the array."
   ]
  },
  {
   "cell_type": "code",
   "execution_count": 213,
   "metadata": {
    "collapsed": false
   },
   "outputs": [
    {
     "name": "stdout",
     "output_type": "stream",
     "text": [
      "1\n",
      "9\n",
      "3.0\n"
     ]
    }
   ],
   "source": [
    "mini = u.min()\n",
    "maxi = u.max(axis=0)\n",
    "medi = np.median(u)\n",
    "print(mini)\n",
    "print(maxi)\n",
    "print(medi)"
   ]
  },
  {
   "cell_type": "markdown",
   "metadata": {},
   "source": [
    "Find the index for the minimum value."
   ]
  },
  {
   "cell_type": "code",
   "execution_count": 266,
   "metadata": {
    "collapsed": false
   },
   "outputs": [
    {
     "name": "stdout",
     "output_type": "stream",
     "text": [
      "0\n"
     ]
    },
    {
     "data": {
      "text/plain": [
       "0"
      ]
     },
     "execution_count": 266,
     "metadata": {},
     "output_type": "execute_result"
    }
   ],
   "source": [
    "ukoko = u.size\n",
    "for i in range (0, ukoko):\n",
    "    if(u[i] == u.min()):\n",
    "        print(i)\n",
    "\n",
    "np.argmin(u)\n"
   ]
  },
  {
   "cell_type": "markdown",
   "metadata": {},
   "source": [
    "Find the index for the maximum value."
   ]
  },
  {
   "cell_type": "code",
   "execution_count": 219,
   "metadata": {
    "collapsed": false
   },
   "outputs": [
    {
     "name": "stdout",
     "output_type": "stream",
     "text": [
      "8\n"
     ]
    }
   ],
   "source": [
    "ukoko = u.size\n",
    "for i in range (0, ukoko):\n",
    "    if(u[i] == u.max(axis=0)):\n",
    "        print(i)"
   ]
  },
  {
   "cell_type": "markdown",
   "metadata": {},
   "source": [
    "Sum all elements together."
   ]
  },
  {
   "cell_type": "code",
   "execution_count": 220,
   "metadata": {
    "collapsed": false
   },
   "outputs": [
    {
     "name": "stdout",
     "output_type": "stream",
     "text": [
      "35\n"
     ]
    }
   ],
   "source": [
    "total = u.sum()\n",
    "print(total)"
   ]
  },
  {
   "cell_type": "markdown",
   "metadata": {},
   "source": [
    "Check if all elements are less than 9."
   ]
  },
  {
   "cell_type": "code",
   "execution_count": 261,
   "metadata": {
    "collapsed": false
   },
   "outputs": [
    {
     "name": "stdout",
     "output_type": "stream",
     "text": [
      "There are 1 numbers larger or equal 9\n"
     ]
    },
    {
     "data": {
      "text/plain": [
       "False"
      ]
     },
     "execution_count": 261,
     "metadata": {},
     "output_type": "execute_result"
    }
   ],
   "source": [
    "ukoko = u.size\n",
    "count = 0\n",
    "for i in range (0, ukoko):\n",
    "    if(u[i]>=9):\n",
    "        count = count + 1\n",
    "print(\"There are\", count, \"numbers larger or equal 9\")\n",
    "\n",
    "all(u<9)"
   ]
  },
  {
   "cell_type": "markdown",
   "metadata": {},
   "source": [
    "Check if any of the elements is equal to 5"
   ]
  },
  {
   "cell_type": "code",
   "execution_count": 267,
   "metadata": {
    "collapsed": false
   },
   "outputs": [
    {
     "name": "stdout",
     "output_type": "stream",
     "text": [
      "There are 1 numbers equal 5\n"
     ]
    },
    {
     "data": {
      "text/plain": [
       "True"
      ]
     },
     "execution_count": 267,
     "metadata": {},
     "output_type": "execute_result"
    }
   ],
   "source": [
    "ukoko = u.size\n",
    "count = 0\n",
    "for i in range (0, ukoko):\n",
    "    if(u[i] == 5):\n",
    "        count = count + 1\n",
    "print(\"There are\", count, \"numbers equal 5\")\n",
    "\n",
    "any(u==5)"
   ]
  },
  {
   "cell_type": "markdown",
   "metadata": {},
   "source": [
    "Sort the values in array in descending order (from maximum to minimum)."
   ]
  },
  {
   "cell_type": "code",
   "execution_count": 251,
   "metadata": {
    "collapsed": false
   },
   "outputs": [
    {
     "name": "stdout",
     "output_type": "stream",
     "text": [
      "[1 2 2 3 3 4 5 6 9]\n"
     ]
    }
   ],
   "source": [
    "u=np.array([1,3,3,4,2,2,5,6,9])\n",
    "u.sort(axis=0)\n",
    "u[::-1]\n",
    "print(u)"
   ]
  },
  {
   "cell_type": "markdown",
   "metadata": {},
   "source": [
    "Multiply the following matrices using the matrix multiplication (dot-product).   \n",
    "$ A= \\begin{bmatrix}\n",
    "1 & 2 \\\\\n",
    "5 & 3\\\\\n",
    "\\end{bmatrix}$ and \n",
    "$x = \\begin{bmatrix}\n",
    "-2 \\\\ \n",
    "3\\\\ \n",
    "\\end{bmatrix}$"
   ]
  },
  {
   "cell_type": "code",
   "execution_count": 252,
   "metadata": {
    "collapsed": false
   },
   "outputs": [
    {
     "name": "stdout",
     "output_type": "stream",
     "text": [
      "[ 4. -1.]\n"
     ]
    }
   ],
   "source": [
    "A = np.array([(1,2), (5,3)], dtype = float)\n",
    "x = np.array([-2, 3], dtype = float)\n",
    "v = A.dot(x)\n",
    "print(v)"
   ]
  },
  {
   "cell_type": "markdown",
   "metadata": {},
   "source": [
    "Import from `numpy.linalg` module the functions `inv` and `solve`"
   ]
  },
  {
   "cell_type": "code",
   "execution_count": 253,
   "metadata": {
    "collapsed": false
   },
   "outputs": [],
   "source": [
    "from numpy.linalg import inv, solve"
   ]
  },
  {
   "cell_type": "markdown",
   "metadata": {},
   "source": [
    "Find the inverse of matrix A."
   ]
  },
  {
   "cell_type": "code",
   "execution_count": 255,
   "metadata": {
    "collapsed": false
   },
   "outputs": [
    {
     "data": {
      "text/plain": [
       "array([[-0.42857143,  0.28571429],\n",
       "       [ 0.71428571, -0.14285714]])"
      ]
     },
     "execution_count": 255,
     "metadata": {},
     "output_type": "execute_result"
    }
   ],
   "source": [
    "A = np.array([(1,2), (5,3)], dtype = float)\n",
    "inv(A)"
   ]
  },
  {
   "cell_type": "markdown",
   "metadata": {},
   "source": [
    "Using `solve` function solve the system of equations \n",
    "$\\begin{bmatrix}1 & 2 \\\\ 5 & 3\\end{bmatrix}\n",
    "\\begin{bmatrix} x_1 \\\\ x_2 \\end{bmatrix} = \\begin{bmatrix} 9 \\\\ 31 \\end{bmatrix}$"
   ]
  },
  {
   "cell_type": "code",
   "execution_count": 258,
   "metadata": {
    "collapsed": false
   },
   "outputs": [
    {
     "name": "stdout",
     "output_type": "stream",
     "text": [
      "[ 5.  2.]\n"
     ]
    },
    {
     "data": {
      "text/plain": [
       "True"
      ]
     },
     "execution_count": 258,
     "metadata": {},
     "output_type": "execute_result"
    }
   ],
   "source": [
    "A = np.array([(1,2), (5,3)], dtype = float)\n",
    "b = np.array([9, 31], dtype = float)\n",
    "x = np.linalg.solve(A, b)\n",
    "print(x)\n",
    "\n",
    "#np.allclose(np.dot(A, x), b)"
   ]
  },
  {
   "cell_type": "markdown",
   "metadata": {},
   "source": [
    "Solve the $Ax=b$, where $A = \\begin{bmatrix} 4 & 8 & 20 \\\\ 8 & 13 & 16 \\\\ 20 & 16 & -91\\end{bmatrix}$ and $b = \\begin{bmatrix}24 \\\\ 18 \\\\ -199 \\end{bmatrix}$."
   ]
  },
  {
   "cell_type": "code",
   "execution_count": 260,
   "metadata": {
    "collapsed": false
   },
   "outputs": [
    {
     "name": "stdout",
     "output_type": "stream",
     "text": [
      "[-883.  642.  -79.]\n"
     ]
    },
    {
     "data": {
      "text/plain": [
       "True"
      ]
     },
     "execution_count": 260,
     "metadata": {},
     "output_type": "execute_result"
    }
   ],
   "source": [
    "A = np.array([(4,8,20), (8,13,16), (20, 16, -91)], dtype = float)\n",
    "b = np.array([24, 18, -199], dtype = float)\n",
    "x = np.linalg.solve(A, b)\n",
    "print(x)\n",
    "\n",
    "#np.allclose(np.dot(A, x), b)"
   ]
  },
  {
   "cell_type": "code",
   "execution_count": null,
   "metadata": {
    "collapsed": true
   },
   "outputs": [],
   "source": []
  }
 ],
 "metadata": {
  "kernelspec": {
   "display_name": "Python 3",
   "language": "python",
   "name": "python3"
  },
  "language_info": {
   "codemirror_mode": {
    "name": "ipython",
    "version": 3
   },
   "file_extension": ".py",
   "mimetype": "text/x-python",
   "name": "python",
   "nbconvert_exporter": "python",
   "pygments_lexer": "ipython3",
   "version": "3.6.0"
  }
 },
 "nbformat": 4,
 "nbformat_minor": 0
}
