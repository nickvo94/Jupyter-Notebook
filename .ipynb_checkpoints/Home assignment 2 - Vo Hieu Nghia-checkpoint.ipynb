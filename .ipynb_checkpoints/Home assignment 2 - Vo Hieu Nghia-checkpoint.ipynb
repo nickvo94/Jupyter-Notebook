{
 "cells": [
  {
   "cell_type": "markdown",
   "metadata": {},
   "source": [
    "# Home assignment 2 - Vo Hieu Nghia\n",
    "Probability and Statistics   \n",
    "CC BY-NC-SA, Sakari Lukkarinen   \n",
    "Helsinki Metropolia University of Applied Sciences"
   ]
  },
  {
   "cell_type": "code",
   "execution_count": 1,
   "metadata": {
    "collapsed": false
   },
   "outputs": [
    {
     "name": "stdout",
     "output_type": "stream",
     "text": [
      "Populating the interactive namespace from numpy and matplotlib\n"
     ]
    }
   ],
   "source": [
    "%pylab inline\n",
    "import numpy.random as random\n",
    "import scipy.stats as stats\n",
    "import pandas as pd"
   ]
  },
  {
   "cell_type": "markdown",
   "metadata": {},
   "source": [
    "## Reliability analysis\n",
    "\n",
    "The goal of this home assignment is to get familiar with reliability analysis of electronic devices. Common way to define the reliability of electronic devices is to measure the [Mean Time Before Failure (MTBF)](https://en.wikipedia.org/wiki/Mean_time_between_failures), which typically follows [the exponential distribution](https://en.wikipedia.org/wiki/Exponential_distribution).\n",
    "\n",
    "<img src=\"https://upload.wikimedia.org/wikipedia/commons/thumb/e/ec/Exponential_pdf.svg/488px-Exponential_pdf.svg.png\" alt=\"Probability density functions for exponential distributions for different expected values ($\\lambda$)\" style=\"Height:200px\">\n",
    "*<center>Figure 1: Probability density functions for exponential distributions.</center>*\n",
    "\n",
    "\n",
    "You can simulate the MTBF by generating random numbers from exponential distribution. For more details how to do that, see for example: [scipy.stats.expon](https://docs.scipy.org/doc/scipy/reference/generated/scipy.stats.expon.html).\n",
    "\n",
    "A real life example data for MTBF analysis can found from Lumio's pages. In [the MTBF report](http://lumio.com/outgoing/Documentation/Certification_Regulation/MTBF_Report.pdf) they have theoretically analyzed the MTBF of their [two sensor optical touch system](http://www.lumio.com/Products/optical-touch.html).\n",
    "\n",
    "Based on the report a sample MTBF data was generated. The data file contains 10,000 rows and 7 columns. You can read the data into Notebook with the following command."
   ]
  },
  {
   "cell_type": "code",
   "execution_count": 2,
   "metadata": {
    "collapsed": false
   },
   "outputs": [
    {
     "data": {
      "text/html": [
       "<div>\n",
       "<table border=\"1\" class=\"dataframe\">\n",
       "  <thead>\n",
       "    <tr style=\"text-align: right;\">\n",
       "      <th></th>\n",
       "      <th>Unnamed: 0</th>\n",
       "      <th>Bar1</th>\n",
       "      <th>Bar2</th>\n",
       "      <th>Bar3</th>\n",
       "      <th>Ledwire</th>\n",
       "      <th>Other</th>\n",
       "      <th>PCB</th>\n",
       "      <th>Sensor1</th>\n",
       "      <th>Sensor2</th>\n",
       "    </tr>\n",
       "  </thead>\n",
       "  <tbody>\n",
       "    <tr>\n",
       "      <th>0</th>\n",
       "      <td>0</td>\n",
       "      <td>47738</td>\n",
       "      <td>16661</td>\n",
       "      <td>89340</td>\n",
       "      <td>35536256</td>\n",
       "      <td>1733151</td>\n",
       "      <td>5089363</td>\n",
       "      <td>118013</td>\n",
       "      <td>706649</td>\n",
       "    </tr>\n",
       "    <tr>\n",
       "      <th>1</th>\n",
       "      <td>1</td>\n",
       "      <td>25224</td>\n",
       "      <td>461960</td>\n",
       "      <td>207892</td>\n",
       "      <td>1288040</td>\n",
       "      <td>602050</td>\n",
       "      <td>6380622</td>\n",
       "      <td>135817</td>\n",
       "      <td>156081</td>\n",
       "    </tr>\n",
       "    <tr>\n",
       "      <th>2</th>\n",
       "      <td>2</td>\n",
       "      <td>264358</td>\n",
       "      <td>78382</td>\n",
       "      <td>34696</td>\n",
       "      <td>1965911</td>\n",
       "      <td>111334</td>\n",
       "      <td>711417</td>\n",
       "      <td>200020</td>\n",
       "      <td>258389</td>\n",
       "    </tr>\n",
       "    <tr>\n",
       "      <th>3</th>\n",
       "      <td>3</td>\n",
       "      <td>173766</td>\n",
       "      <td>60687</td>\n",
       "      <td>19159</td>\n",
       "      <td>5399647</td>\n",
       "      <td>653105</td>\n",
       "      <td>9282464</td>\n",
       "      <td>561615</td>\n",
       "      <td>309686</td>\n",
       "    </tr>\n",
       "    <tr>\n",
       "      <th>4</th>\n",
       "      <td>4</td>\n",
       "      <td>136754</td>\n",
       "      <td>236812</td>\n",
       "      <td>9762</td>\n",
       "      <td>24376764</td>\n",
       "      <td>2499409</td>\n",
       "      <td>265387</td>\n",
       "      <td>700599</td>\n",
       "      <td>496351</td>\n",
       "    </tr>\n",
       "  </tbody>\n",
       "</table>\n",
       "</div>"
      ],
      "text/plain": [
       "   Unnamed: 0    Bar1    Bar2    Bar3   Ledwire    Other      PCB  Sensor1  \\\n",
       "0           0   47738   16661   89340  35536256  1733151  5089363   118013   \n",
       "1           1   25224  461960  207892   1288040   602050  6380622   135817   \n",
       "2           2  264358   78382   34696   1965911   111334   711417   200020   \n",
       "3           3  173766   60687   19159   5399647   653105  9282464   561615   \n",
       "4           4  136754  236812    9762  24376764  2499409   265387   700599   \n",
       "\n",
       "   Sensor2  \n",
       "0   706649  \n",
       "1   156081  \n",
       "2   258389  \n",
       "3   309686  \n",
       "4   496351  "
      ]
     },
     "execution_count": 2,
     "metadata": {},
     "output_type": "execute_result"
    }
   ],
   "source": [
    "df = pd.read_csv('http://users.metropolia.fi/~tommiluk/Notebooks/Statistics/lumio.csv')\n",
    "df.head()\n",
    "#df.tail()"
   ]
  },
  {
   "cell_type": "markdown",
   "metadata": {},
   "source": [
    "### To do\n",
    "\n",
    "1. Draw histograms and calculate the basic descriptive statistics for each component.\n",
    "2. Using `numpy.random.choice` select randomly only 100 samples from each column and calculate the sample mean, standard deviation and standard error for each column.\n",
    "3. Based on the sample mean and standard error calculated in previous task, estimate what is the 95 % confidence interval for the mean MTBF for each component.\n",
    "4. Estimate what is the mean MTBF of the whole system. We assume that if any of the components fails, then the whole system fails. You can model this situation by finding the minimum value for each row of the table and then by making the histogram for the minimum values and calculating the descriptive statistics."
   ]
  },
  {
   "cell_type": "code",
   "execution_count": 3,
   "metadata": {
    "collapsed": false,
    "scrolled": true
   },
   "outputs": [
    {
     "name": "stdout",
     "output_type": "stream",
     "text": [
      "count    1.000000e+04\n",
      "mean     1.436702e+05\n",
      "std      1.431291e+05\n",
      "min      9.000000e+00\n",
      "25%      4.138550e+04\n",
      "50%      9.897950e+04\n",
      "75%      1.972270e+05\n",
      "max      1.177700e+06\n",
      "Name: Bar1, dtype: float64\n",
      "count    1.000000e+04\n",
      "mean     1.418828e+05\n",
      "std      1.392456e+05\n",
      "min      5.000000e+00\n",
      "25%      4.171975e+04\n",
      "50%      1.001940e+05\n",
      "75%      1.983455e+05\n",
      "max      1.345937e+06\n",
      "Name: Bar2, dtype: float64\n",
      "count    1.000000e+04\n",
      "mean     1.440420e+05\n",
      "std      1.446179e+05\n",
      "min      3.000000e+00\n",
      "25%      4.112525e+04\n",
      "50%      9.949700e+04\n",
      "75%      1.990285e+05\n",
      "max      1.375031e+06\n",
      "Name: Bar3, dtype: float64\n",
      "count    1.000000e+04\n",
      "mean     2.325788e+07\n",
      "std      2.314970e+07\n",
      "min      3.474000e+03\n",
      "25%      6.764800e+06\n",
      "50%      1.616356e+07\n",
      "75%      3.241773e+07\n",
      "max      1.987486e+08\n",
      "Name: Ledwire, dtype: float64\n",
      "count    1.000000e+04\n",
      "mean     1.266864e+06\n",
      "std      1.290932e+06\n",
      "min      1.730000e+02\n",
      "25%      3.609638e+05\n",
      "50%      8.595325e+05\n",
      "75%      1.759768e+06\n",
      "max      1.214497e+07\n",
      "Name: Other, dtype: float64\n",
      "count    1.000000e+04\n",
      "mean     4.500215e+06\n",
      "std      4.561019e+06\n",
      "min      2.510000e+02\n",
      "25%      1.285868e+06\n",
      "50%      3.112773e+06\n",
      "75%      6.158641e+06\n",
      "max      4.526654e+07\n",
      "Name: PCB, dtype: float64\n",
      "count    1.000000e+04\n",
      "mean     6.066229e+05\n",
      "std      6.055939e+05\n",
      "min      0.000000e+00\n",
      "25%      1.732325e+05\n",
      "50%      4.207960e+05\n",
      "75%      8.452835e+05\n",
      "max      5.679563e+06\n",
      "Name: Sensor1, dtype: float64\n",
      "count    1.000000e+04\n",
      "mean     6.133862e+05\n",
      "std      6.048200e+05\n",
      "min      1.600000e+01\n",
      "25%      1.826025e+05\n",
      "50%      4.242965e+05\n",
      "75%      8.685908e+05\n",
      "max      5.560738e+06\n",
      "Name: Sensor2, dtype: float64\n"
     ]
    },
    {
     "data": {
      "image/png": "[encoded data removed]",
      "text/plain": [
       "<matplotlib.figure.Figure at 0x56665b0358>"
      ]
     },
     "metadata": {},
     "output_type": "display_data"
    },
    {
     "data": {
      "image/png": "[encoded data removed]",
      "text/plain": [
       "<matplotlib.figure.Figure at 0x566890b588>"
      ]
     },
     "metadata": {},
     "output_type": "display_data"
    },
    {
     "data": {
      "image/png": "[encoded data removed]",
      "text/plain": [
       "<matplotlib.figure.Figure at 0x56689bf588>"
      ]
     },
     "metadata": {},
     "output_type": "display_data"
    },
    {
     "data": {
      "image/png": "[encoded data removed]",
      "text/plain": [
       "<matplotlib.figure.Figure at 0x5668a0dc88>"
      ]
     },
     "metadata": {},
     "output_type": "display_data"
    },
    {
     "data": {
      "image/png": "[encoded data removed]",
      "text/plain": [
       "<matplotlib.figure.Figure at 0x5668a7ecc0>"
      ]
     },
     "metadata": {},
     "output_type": "display_data"
    },
    {
     "data": {
      "image/png": "[encoded data removed]",
      "text/plain": [
       "<matplotlib.figure.Figure at 0x5668ae1438>"
      ]
     },
     "metadata": {},
     "output_type": "display_data"
    },
    {
     "data": {
      "image/png": "[encoded data removed]",
      "text/plain": [
       "<matplotlib.figure.Figure at 0x5668b4d320>"
      ]
     },
     "metadata": {},
     "output_type": "display_data"
    },
    {
     "data": {
      "image/png": "[encoded data removed]",
      "text/plain": [
       "<matplotlib.figure.Figure at 0x5668ba9e80>"
      ]
     },
     "metadata": {},
     "output_type": "display_data"
    }
   ],
   "source": [
    "#1\n",
    "fig=plt.figure()\n",
    "graph1 = fig.add_subplot(111)\n",
    "\n",
    "fig2=plt.figure()\n",
    "graph2 = fig2.add_subplot(111) \n",
    "\n",
    "fig3=plt.figure()\n",
    "graph3 = fig3.add_subplot(111)\n",
    "\n",
    "fig4=plt.figure()\n",
    "graph4 = fig4.add_subplot(111)\n",
    "\n",
    "fig5=plt.figure()\n",
    "graph5 = fig5.add_subplot(111)\n",
    "\n",
    "fig6=plt.figure()\n",
    "graph6 = fig6.add_subplot(111)\n",
    "\n",
    "fig7=plt.figure()\n",
    "graph7 = fig7.add_subplot(111)\n",
    "\n",
    "fig8=plt.figure()\n",
    "graph8 = fig8.add_subplot(111) \n",
    "\n",
    "graph1.hist(df[\"Bar1\"],bins='auto')\n",
    "graph1.set(xlabel='value bar1', ylabel='frequency bar1')\n",
    "print(df[\"Bar1\"].describe())\n",
    "\n",
    "graph2.hist(df[\"Bar2\"],bins='auto')\n",
    "graph2.set(xlabel='value bar2', ylabel='frequency bar2')\n",
    "print(df[\"Bar2\"].describe())\n",
    "\n",
    "graph3.hist(df[\"Bar3\"],bins='auto')\n",
    "graph3.set(xlabel='value bar3', ylabel='frequency bar3')\n",
    "print(df[\"Bar3\"].describe())\n",
    "\n",
    "graph4.hist(df[\"Ledwire\"],bins='auto')\n",
    "graph4.set(xlabel='value Ledwire', ylabel='frequency Ledwire')\n",
    "print(df[\"Ledwire\"].describe())\n",
    "\n",
    "graph5.hist(df[\"Other\"],bins='auto')\n",
    "graph5.set(xlabel='value other', ylabel='frequency other')\n",
    "print(df[\"Other\"].describe())\n",
    "\n",
    "graph6.hist(df[\"PCB\"],bins='auto')\n",
    "graph6.set(xlabel='value PCB', ylabel='frequency PCB')\n",
    "print(df[\"PCB\"].describe())\n",
    "\n",
    "graph7.hist(df[\"Sensor1\"],bins='auto')\n",
    "graph7.set(xlabel='value sensor1', ylabel='frequency sensor1')\n",
    "print(df[\"Sensor1\"].describe())\n",
    "\n",
    "graph8.hist(df[\"Sensor2\"],bins='auto')\n",
    "graph8.set(xlabel='value sensor2', ylabel='frequency sensor2')\n",
    "print(df[\"Sensor2\"].describe())\n"
   ]
  },
  {
   "cell_type": "code",
   "execution_count": 15,
   "metadata": {
    "collapsed": false
   },
   "outputs": [
    {
     "name": "stdout",
     "output_type": "stream",
     "text": [
      "Name :  Bar1\n",
      "Mean :  147522.52\n",
      "Standar deviation :  150123.941305\n",
      "Standar error :  15012.3941305\n",
      "Confident interval :  (118098.76818247174, 176946.27181752824)\n",
      "Name :  Bar2\n",
      "Mean :  153205.19\n",
      "Standar deviation :  131140.924846\n",
      "Standar error :  13114.0924846\n",
      "Confident interval :  (127502.04104029422, 178908.33895970578)\n",
      "Name :  Bar3\n",
      "Mean :  141063.36\n",
      "Standar deviation :  136797.817712\n",
      "Standar error :  13679.7817712\n",
      "Confident interval :  (114251.48041204833, 167875.23958795166)\n",
      "Name :  Ledwire\n",
      "Mean :  24061276.79\n",
      "Standar deviation :  21671651.3879\n",
      "Standar error :  2167165.13879\n",
      "Confident interval :  (19813711.169416986, 28308842.410583012)\n",
      "Name :  Other\n",
      "Mean :  1354325.41\n",
      "Standar deviation :  1321777.4905\n",
      "Standar error :  132177.74905\n",
      "Confident interval :  (1095261.7823046814, 1613389.0376953185)\n",
      "Name :  PCB\n",
      "Mean :  4442148.61\n",
      "Standar deviation :  3628058.1317\n",
      "Standar error :  362805.81317\n",
      "Confident interval :  (3731062.2828060039, 5153234.9371939972)\n",
      "Name :  Sensor1\n",
      "Mean :  697876.7\n",
      "Standar deviation :  700273.92982\n",
      "Standar error :  70027.392982\n",
      "Confident interval :  (560625.53182396246, 835127.86817603745)\n",
      "Name :  Sensor2\n",
      "Mean :  606910.53\n",
      "Standar deviation :  722818.688291\n",
      "Standar error :  72281.8688291\n",
      "Confident interval :  (465240.67035970656, 748580.38964029355)\n"
     ]
    }
   ],
   "source": [
    "#2&3\n",
    "from scipy import stats\n",
    "from numpy.random import choice\n",
    "\n",
    "name = np.array(['Bar1','Bar2','Bar3','Ledwire','Other','PCB','Sensor1','Sensor2'])\n",
    "\n",
    "for i in range (0, 8):\n",
    "    arr = np.random.choice(df[name[i]],100)\n",
    "    mean = arr.mean()\n",
    "    std = arr.std()\n",
    "    se = std/sqrt(arr.size)\n",
    "    conf_intv = stats.norm.interval(0.95, loc = mean, scale=se)\n",
    "    \n",
    "    print('Name : ',name[i])\n",
    "    print('Mean : ',mean)\n",
    "    print('Standar deviation : ',std)\n",
    "    print('Standar error : ',se)\n",
    "    print('Confident interval : ',conf_intv)"
   ]
  },
  {
   "cell_type": "code",
   "execution_count": 19,
   "metadata": {
    "collapsed": false,
    "scrolled": true
   },
   "outputs": [
    {
     "name": "stdout",
     "output_type": "stream",
     "text": [
      "78382\n",
      "[ 16661.  25224.  34696. ...,  10268.  12227.    126.]\n",
      "Descriptive statics\n"
     ]
    },
    {
     "data": {
      "text/html": [
       "<div>\n",
       "<table border=\"1\" class=\"dataframe\">\n",
       "  <thead>\n",
       "    <tr style=\"text-align: right;\">\n",
       "      <th></th>\n",
       "      <th>0</th>\n",
       "    </tr>\n",
       "  </thead>\n",
       "  <tbody>\n",
       "    <tr>\n",
       "      <th>count</th>\n",
       "      <td>10000.000000</td>\n",
       "    </tr>\n",
       "    <tr>\n",
       "      <th>mean</th>\n",
       "      <td>39860.354200</td>\n",
       "    </tr>\n",
       "    <tr>\n",
       "      <th>std</th>\n",
       "      <td>39809.389378</td>\n",
       "    </tr>\n",
       "    <tr>\n",
       "      <th>min</th>\n",
       "      <td>0.000000</td>\n",
       "    </tr>\n",
       "    <tr>\n",
       "      <th>25%</th>\n",
       "      <td>11682.500000</td>\n",
       "    </tr>\n",
       "    <tr>\n",
       "      <th>50%</th>\n",
       "      <td>27611.000000</td>\n",
       "    </tr>\n",
       "    <tr>\n",
       "      <th>75%</th>\n",
       "      <td>55181.500000</td>\n",
       "    </tr>\n",
       "    <tr>\n",
       "      <th>max</th>\n",
       "      <td>363983.000000</td>\n",
       "    </tr>\n",
       "  </tbody>\n",
       "</table>\n",
       "</div>"
      ],
      "text/plain": [
       "                   0\n",
       "count   10000.000000\n",
       "mean    39860.354200\n",
       "std     39809.389378\n",
       "min         0.000000\n",
       "25%     11682.500000\n",
       "50%     27611.000000\n",
       "75%     55181.500000\n",
       "max    363983.000000"
      ]
     },
     "execution_count": 19,
     "metadata": {},
     "output_type": "execute_result"
    },
    {
     "data": {
      "image/png": "[encoded data removed]",
      "text/plain": [
       "<matplotlib.figure.Figure at 0x5668aff400>"
      ]
     },
     "metadata": {},
     "output_type": "display_data"
    }
   ],
   "source": [
    "#4\n",
    "mins = np.ones(10000)\n",
    "temp = np.ones(8)\n",
    "\n",
    "print(df.ix[2,name[1]])\n",
    "\n",
    "\n",
    "for i in range (0, 10000):\n",
    "    for j in range (0, 8):\n",
    "        temp[j] = df.ix[i, name[j]]\n",
    "    \n",
    "    mins[i]=temp.min()\n",
    "    \n",
    "print(mins)\n",
    "hist(mins, bins= np.arange(0, 400000, 10000))\n",
    "ylabel('frequency')\n",
    "xlabel('hours')\n",
    "title('MTBF of the whole system')\n",
    "\n",
    "print('Descriptive statics')\n",
    "df2 = pd.DataFrame(mins)\n",
    "df2.describe()\n",
    "#print(mins.mean())"
   ]
  },
  {
   "cell_type": "code",
   "execution_count": null,
   "metadata": {
    "collapsed": true
   },
   "outputs": [],
   "source": []
  }
 ],
 "metadata": {
  "kernelspec": {
   "display_name": "Python 3",
   "language": "python",
   "name": "python3"
  },
  "language_info": {
   "codemirror_mode": {
    "name": "ipython",
    "version": 3
   },
   "file_extension": ".py",
   "mimetype": "text/x-python",
   "name": "python",
   "nbconvert_exporter": "python",
   "pygments_lexer": "ipython3",
   "version": "3.6.0"
  }
 },
 "nbformat": 4,
 "nbformat_minor": 0
}
