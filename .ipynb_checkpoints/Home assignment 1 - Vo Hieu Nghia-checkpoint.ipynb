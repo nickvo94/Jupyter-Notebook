{
 "cells": [
  {
   "cell_type": "markdown",
   "metadata": {},
   "source": [
    "# Home assignment 1 - Vo Hieu Nghia\n",
    "Probability and Statistics   \n",
    "CC BY-NC-SA, Sakari Lukkarinen   \n",
    "Helsinki Metropolia University of Applied Sciences"
   ]
  },
  {
   "cell_type": "code",
   "execution_count": 2,
   "metadata": {
    "collapsed": false
   },
   "outputs": [
    {
     "name": "stdout",
     "output_type": "stream",
     "text": [
      "Populating the interactive namespace from numpy and matplotlib\n"
     ]
    }
   ],
   "source": [
    "%pylab inline\n",
    "from numpy.random import randint"
   ]
  },
  {
   "cell_type": "markdown",
   "metadata": {},
   "source": [
    "## Theoretical values"
   ]
  },
  {
   "cell_type": "markdown",
   "metadata": {},
   "source": [
    "The goal is to compute the probability that at least two people in the room have the same birthday. Let's denote that $P(A)$. However, it is much easier to calculate the probability, that no two persons have the same birthday, e.g. $P(A')$. As these two probabilities are mutually exclusive, we can write $P(A) = 1- P(A')$.\n",
    "\n",
    "$P(A')$ can be calculated iteratively:\n",
    "$$P(A') = \\frac{365}{365} \\times \\frac{364}{365} \\times \\frac{363}{365} \\times ... \\frac{365 - N + 1}{365}$$\n",
    "\n",
    "where $N$ is the number of persons in the same room. \n",
    "\n",
    "First write a code that iteratively calculates the propabilities of $P(A')$ and stores the results into an array `P2`"
   ]
  },
  {
   "cell_type": "code",
   "execution_count": 55,
   "metadata": {
    "collapsed": false
   },
   "outputs": [
    {
     "name": "stdout",
     "output_type": "stream",
     "text": [
      "[  1.00000000e+00   9.97260274e-01   9.91795834e-01   9.83644088e-01\n",
      "   9.72864426e-01   9.59537516e-01   9.43764297e-01   9.25664708e-01\n",
      "   9.05376166e-01   8.83051822e-01   8.58858622e-01   8.32975211e-01\n",
      "   8.05589725e-01   7.76897488e-01   7.47098680e-01   7.16395995e-01\n",
      "   6.84992335e-01   6.53088582e-01   6.20881474e-01   5.88561616e-01\n",
      "   5.56311665e-01   5.24304692e-01   4.92702766e-01   4.61655742e-01\n",
      "   4.31300296e-01   4.01759180e-01   3.73140718e-01   3.45538528e-01\n",
      "   3.19031463e-01   2.93683757e-01   2.69545366e-01   2.46652472e-01\n",
      "   2.25028146e-01   2.04683135e-01   1.85616761e-01   1.67817894e-01\n",
      "   1.51265992e-01   1.35932179e-01   1.21780336e-01   1.08768190e-01\n",
      "   9.68483885e-02   8.59695284e-02   7.60771443e-02   6.71146314e-02\n",
      "   5.90241005e-02   5.17471566e-02   4.52255972e-02   3.94020271e-02\n",
      "   3.42203907e-02   2.96264204e-02   2.55680067e-02   2.19954907e-02\n",
      "   1.88618865e-02   1.61230372e-02   1.37377112e-02   1.16676451e-02\n",
      "   9.87754066e-03   8.33502061e-03   7.01055158e-03   5.87733913e-03\n",
      "   4.91120119e-03   4.09042510e-03   3.39561317e-03   2.80952103e-03\n",
      "   2.31689269e-03   1.90429536e-03   1.55995702e-03   1.27360875e-03\n",
      "   1.03633369e-03   8.40424035e-04   6.79246823e-04   5.47119359e-04\n",
      "   4.39194444e-04   3.51355555e-04   2.80121826e-04   2.22562547e-04\n",
      "   1.76220756e-04   1.39045419e-04   1.09331603e-04   8.56680507e-05\n",
      "   6.68914916e-05   5.20470784e-05   4.03543101e-05   3.11778506e-05\n",
      "   2.40026740e-05   1.84130102e-05   1.40746023e-05   1.07198341e-05\n",
      "   8.13532614e-06   6.15164388e-06   4.63480018e-06   3.47927466e-06\n",
      "   2.60230680e-06   1.93925328e-06   1.43982915e-06   1.06507910e-06\n",
      "   7.84948705e-07   5.76345899e-07   4.21600972e-07   0.00000000e+00]\n"
     ]
    }
   ],
   "source": [
    "P2 = np.zeros(100)\n",
    "P2[0]=1\n",
    "for i in range (1, 99):\n",
    "    P_nosamebirth = ((365-(i+1)+1)/365)*P2[i-1]\n",
    "    P2[i]=P_nosamebirth\n",
    "    \n",
    "print(P2) \n",
    "    \n"
   ]
  },
  {
   "cell_type": "markdown",
   "metadata": {},
   "source": [
    "Now you can calculate the $P(A)$ values by using the mutually exclusive rule. Store the results into an array `P1`."
   ]
  },
  {
   "cell_type": "code",
   "execution_count": 56,
   "metadata": {
    "collapsed": false
   },
   "outputs": [
    {
     "name": "stdout",
     "output_type": "stream",
     "text": [
      "[ 0.          0.00273973  0.00820417  0.01635591  0.02713557  0.04046248\n",
      "  0.0562357   0.07433529  0.09462383  0.11694818  0.14114138  0.16702479\n",
      "  0.19441028  0.22310251  0.25290132  0.28360401  0.31500767  0.34691142\n",
      "  0.37911853  0.41143838  0.44368834  0.47569531  0.50729723  0.53834426\n",
      "  0.5686997   0.59824082  0.62685928  0.65446147  0.68096854  0.70631624\n",
      "  0.73045463  0.75334753  0.77497185  0.79531686  0.81438324  0.83218211\n",
      "  0.84873401  0.86406782  0.87821966  0.89123181  0.90315161  0.91403047\n",
      "  0.92392286  0.93288537  0.9409759   0.94825284  0.9547744   0.96059797\n",
      "  0.96577961  0.97037358  0.97443199  0.97800451  0.98113811  0.98387696\n",
      "  0.98626229  0.98833235  0.99012246  0.99166498  0.99298945  0.99412266\n",
      "  0.9950888   0.99590957  0.99660439  0.99719048  0.99768311  0.9980957\n",
      "  0.99844004  0.99872639  0.99896367  0.99915958  0.99932075  0.99945288\n",
      "  0.99956081  0.99964864  0.99971988  0.99977744  0.99982378  0.99986095\n",
      "  0.99989067  0.99991433  0.99993311  0.99994795  0.99995965  0.99996882\n",
      "  0.999976    0.99998159  0.99998593  0.99998928  0.99999186  0.99999385\n",
      "  0.99999537  0.99999652  0.9999974   0.99999806  0.99999856  0.99999893\n",
      "  0.99999922  0.99999942  0.99999958  1.        ]\n"
     ]
    }
   ],
   "source": [
    "P1 = np.zeros(100)\n",
    "P2size = P2.size\n",
    "for i in range (0, P2size):\n",
    "    P1[i] = 1-P2[i]\n",
    "    \n",
    "print(P1)"
   ]
  },
  {
   "cell_type": "markdown",
   "metadata": {},
   "source": [
    "Lastly you can make a graphical plot of $P(A)$ (array `P1`) against the number of persons in the room and study how can you interpret the results."
   ]
  },
  {
   "cell_type": "code",
   "execution_count": 70,
   "metadata": {
    "collapsed": false,
    "scrolled": true
   },
   "outputs": [
    {
     "name": "stdout",
     "output_type": "stream",
     "text": [
      "The number of persons are needed that the probability is 0.5 for that at least two persons have the same birthday is : 22\n"
     ]
    },
    {
     "data": {
      "image/png": "[encoded data removed]",
      "text/plain": [
       "<matplotlib.figure.Figure at 0xd65f643470>"
      ]
     },
     "metadata": {},
     "output_type": "display_data"
    }
   ],
   "source": [
    "\n",
    "fig = plt.figure()\n",
    "ax = fig.add_subplot(111)\n",
    "ax.set(title='Birthday Probability', ylabel='probability of at least 2 people', xlabel='number of people')\n",
    "ax.grid()\n",
    "ax.plot(P1)\n",
    "\n",
    "for i in range (0, 99):\n",
    "    if(P1[i] > 0.49 and P1[i] < 0.51 ): print('The number of persons are needed that the probability is 0.5 for that at least two persons have the same birthday is :',i)\n"
   ]
  },
  {
   "cell_type": "markdown",
   "metadata": {},
   "source": [
    "Based on the graph, estimate how many persons are needed that the probability is 0.5 for that at least two persons have the same birthday."
   ]
  },
  {
   "cell_type": "raw",
   "metadata": {},
   "source": [
    "Your answer:22\n"
   ]
  },
  {
   "cell_type": "markdown",
   "metadata": {},
   "source": [
    "## Using random values\n",
    "\n",
    "Next your task is to use random integers for the same task - calculating the probabilities of the birthday problem. \n",
    "\n",
    "You can use `numpy.random.randint()` function to generate random numbers between 1 and 365. Try that here."
   ]
  },
  {
   "cell_type": "code",
   "execution_count": 24,
   "metadata": {
    "collapsed": false
   },
   "outputs": [
    {
     "data": {
      "text/plain": [
       "69"
      ]
     },
     "execution_count": 24,
     "metadata": {},
     "output_type": "execute_result"
    }
   ],
   "source": [
    "numpy.random.randint(1, 365)"
   ]
  },
  {
   "cell_type": "markdown",
   "metadata": {},
   "source": [
    "Then you can use [`numpy.unique()`](https://docs.scipy.org/doc/numpy/reference/generated/numpy.unique.html) function to find the unique values in an array. Create, for example, 20 random numbers between 1 and 365 and find how many unique values do you have in the array."
   ]
  },
  {
   "cell_type": "code",
   "execution_count": 71,
   "metadata": {
    "collapsed": false
   },
   "outputs": [
    {
     "name": "stdout",
     "output_type": "stream",
     "text": [
      "[322 163 245 236 140  56  87 150 295 219 173   1 106 109 166 363 183 237\n",
      " 338 131]\n",
      "[  1  56  87 106 109 131 140 150 163 166 173 183 219 236 237 245 295 322\n",
      " 338 363]\n"
     ]
    }
   ],
   "source": [
    "a = numpy.random.randint(1, 365, size = 20)\n",
    "u = np.unique(a)\n",
    "print(a)\n",
    "print(u)"
   ]
  },
  {
   "cell_type": "markdown",
   "metadata": {},
   "source": [
    "If you compare the number of unique values to the number of total values in the array, you can create a test if all the numbers are unique. Write a code that makes that test and gives a result of either `True` or `False`. `True` means that all numbers were unique and `False` that some of the values were similar."
   ]
  },
  {
   "cell_type": "code",
   "execution_count": 72,
   "metadata": {
    "collapsed": false
   },
   "outputs": [
    {
     "name": "stdout",
     "output_type": "stream",
     "text": [
      "[1 1 1 1 1 1 1 1 1 1 1 1 1 1 1 1 1 1 1 1]\n",
      "True\n"
     ]
    }
   ],
   "source": [
    "\n",
    "asize = a.size\n",
    "u, times = np.unique(a, return_counts = True)\n",
    "print(times)\n",
    "tsize = times.size\n",
    "if tsize == asize:print(True)\n",
    "else:print(False)\n",
    "\n",
    "     \n",
    "    \n",
    "    \n"
   ]
  },
  {
   "cell_type": "markdown",
   "metadata": {},
   "source": [
    "Now write a code where you can change the number of persons within the same room. Use random integers to select a birthday for each person and test if all birthdays are unique or not. Write a loop that repeats that test several times and collect how many times the birthdays were unique."
   ]
  },
  {
   "cell_type": "code",
   "execution_count": 51,
   "metadata": {
    "collapsed": false
   },
   "outputs": [
    {
     "name": "stdout",
     "output_type": "stream",
     "text": [
      "[ 1000.  1000.   996.   993.   980.   969.   963.   938.   929.   904.\n",
      "   891.   847.   825.   794.   764.   740.   717.   711.   642.   630.\n",
      "   589.   578.   560.   516.   436.   429.   399.   391.   332.   312.\n",
      "   299.   238.   255.   246.   208.   196.   166.   150.   130.   128.\n",
      "   108.    98.    80.    75.    69.    47.    50.    44.    42.    34.\n",
      "    29.    22.    21.    19.    18.    13.     7.     6.     4.     6.\n",
      "     2.     7.     1.     4.     0.     1.     3.     0.     4.     2.\n",
      "     0.     2.     0.     0.     0.     0.     1.     1.     0.     0.\n",
      "     0.     0.     0.     0.     0.     0.     0.     0.     0.     0.\n",
      "     0.     0.     0.     0.     0.     0.     0.     0.     0.     0.]\n"
     ]
    }
   ],
   "source": [
    "N = 100\n",
    "P_unique_times = np.zeros(N)\n",
    "\n",
    "for j in range (N): \n",
    "    count = 0\n",
    "    \n",
    "    for i in range (1000):\n",
    "        P = numpy.random.randint(1, 365, size = j)\n",
    "        Psize = P.size\n",
    "        u, times = np.unique(P, return_counts = True)\n",
    "        #print(times)\n",
    "        tsize = times.size\n",
    "        if tsize == Psize: count = count + 1\n",
    "            \n",
    "    P_unique_times[j] = (count)\n",
    "\n",
    "print(P_unique_times)\n",
    "    \n",
    "\n",
    "\n",
    "\n",
    "\n"
   ]
  },
  {
   "cell_type": "markdown",
   "metadata": {},
   "source": [
    "Now it is time to combine all and write a Python code that by generating random integers several thousands of times and collecting the data for several numbers of persons, $N$, estimates the probability curve of $P(A)$. Store the results into a variable `P1_random`."
   ]
  },
  {
   "cell_type": "code",
   "execution_count": 53,
   "metadata": {
    "collapsed": false
   },
   "outputs": [
    {
     "data": {
      "text/plain": [
       "[<matplotlib.lines.Line2D at 0xd65f416160>]"
      ]
     },
     "execution_count": 53,
     "metadata": {},
     "output_type": "execute_result"
    },
    {
     "data": {
      "image/png": "[encoded data removed]",
      "text/plain": [
       "<matplotlib.figure.Figure at 0xd65e305630>"
      ]
     },
     "metadata": {},
     "output_type": "display_data"
    }
   ],
   "source": [
    "\n",
    "N = 100\n",
    "P1_random = np.zeros(N)\n",
    "\n",
    "fig = plt.figure()\n",
    "ax = fig.add_subplot(111)\n",
    "ax.set(title='All have different Birthday', ylabel='probability of unique birthday', xlabel='number of people')\n",
    "ax.grid()\n",
    "\n",
    "for j in range (N): \n",
    "    count = 0\n",
    "    \n",
    "    for i in range (5000):\n",
    "        P = numpy.random.randint(1, 365, size = j)\n",
    "        Psize = P.size\n",
    "        u, times = np.unique(P, return_counts = True)\n",
    "        #print(times)\n",
    "        tsize = times.size\n",
    "        if tsize == Psize: count = count + 1\n",
    "\n",
    "    P1_random[j] = 1 - (count/5000)\n",
    "\n",
    "#print(P1_random)\n",
    "\n",
    "\n"
   ]
  },
  {
   "cell_type": "markdown",
   "metadata": {
    "collapsed": false
   },
   "source": [
    "## Comparison of the theoretical values to random simulation\n",
    "\n",
    "Lastly compare the results of the theoretical values (`P1`) to those you created by generating random numbers (`P1_random`). Create a graph where you draw both the theoretical probabilities and the values calculated by using random numbers for the birthday problem. How much is the difference between these two graphs?"
   ]
  },
  {
   "cell_type": "code",
   "execution_count": 69,
   "metadata": {
    "collapsed": false
   },
   "outputs": [
    {
     "data": {
      "text/plain": [
       "<matplotlib.legend.Legend at 0xd65f5e7748>"
      ]
     },
     "execution_count": 69,
     "metadata": {},
     "output_type": "execute_result"
    },
    {
     "data": {
      "image/png": "[encoded data removed]",
      "text/plain": [
       "<matplotlib.figure.Figure at 0xd65f76f908>"
      ]
     },
     "metadata": {},
     "output_type": "display_data"
    }
   ],
   "source": [
    "fig = plt.figure()\n",
    "ax = fig.add_subplot(111)\n",
    "ax.set(title='The computed probability of at least two people sharing a birthday versus the number of people => There is only slightly differrent between 2 graphs', \n",
    "       ylabel='probability at least 2 people sharing birthday', xlabel='number of people')\n",
    "ax.grid()\n",
    "ax.plot(P1_random, label='Random simulation')\n",
    "ax.plot(P1, label='Theorical value')\n",
    "ax.legend(loc='best') "
   ]
  },
  {
   "cell_type": "code",
   "execution_count": null,
   "metadata": {
    "collapsed": true
   },
   "outputs": [],
   "source": []
  }
 ],
 "metadata": {
  "kernelspec": {
   "display_name": "Python 3",
   "language": "python",
   "name": "python3"
  },
  "language_info": {
   "codemirror_mode": {
    "name": "ipython",
    "version": 3
   },
   "file_extension": ".py",
   "mimetype": "text/x-python",
   "name": "python",
   "nbconvert_exporter": "python",
   "pygments_lexer": "ipython3",
   "version": "3.6.0"
  }
 },
 "nbformat": 4,
 "nbformat_minor": 0
}
